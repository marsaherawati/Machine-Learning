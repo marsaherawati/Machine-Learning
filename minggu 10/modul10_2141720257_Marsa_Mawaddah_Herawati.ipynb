{
  "cells": [
    {
      "cell_type": "markdown",
      "metadata": {
        "id": "qBMNVsdW2qmP"
      },
      "source": [
        "# Praktikum 1"
      ]
    },
    {
      "cell_type": "markdown",
      "metadata": {
        "id": "YOAfWFtl2vDR"
      },
      "source": [
        "## Setup"
      ]
    },
    {
      "cell_type": "markdown",
      "metadata": {
        "id": "-V6urW-z2xom"
      },
      "source": [
        "Impor matplotlib dan buat fungsi pembantu untuk memplot grafik:"
      ]
    },
    {
      "cell_type": "code",
      "execution_count": null,
      "metadata": {
        "id": "aNz1TdJi2kGW"
      },
      "outputs": [],
      "source": [
        "import numpy as np\n",
        "import tensorflow_datasets as tfds\n",
        "import tensorflow as tf\n",
        "\n",
        "tfds.disable_progress_bar()"
      ]
    },
    {
      "cell_type": "code",
      "execution_count": null,
      "metadata": {
        "id": "i8bD99Ei20gu"
      },
      "outputs": [],
      "source": [
        "import matplotlib.pyplot as plt\n",
        "\n",
        "def plot_graphs(history, metric):\n",
        "  plt.plot(history.history[metric])\n",
        "  plt.plot(history.history['val_'+metric], '')\n",
        "  plt.xlabel(\"Epochs\")\n",
        "  plt.ylabel(metric)\n",
        "  plt.legend([metric, 'val_'+metric])"
      ]
    },
    {
      "cell_type": "markdown",
      "metadata": {
        "id": "Bu3k3qCC26c4"
      },
      "source": [
        "### Setup input pipeline"
      ]
    },
    {
      "cell_type": "markdown",
      "metadata": {
        "id": "DPKfRIKV29cN"
      },
      "source": [
        "Dataset ulasan film IMDB adalah kumpulan data klasifikasi biner—semua ulasan memiliki sentimen positif atau negatif.\n",
        "Download dataset menggunakan TFDS. Lihat loading text tutorial jika ingin me load data secara manual"
      ]
    },
    {
      "cell_type": "code",
      "execution_count": null,
      "metadata": {
        "colab": {
          "base_uri": "https://localhost:8080/"
        },
        "id": "gEWhKFwG2_5F",
        "outputId": "59c3ee86-39cb-4b24-bb96-9dc3a5f6d7ff"
      },
      "outputs": [
        {
          "name": "stdout",
          "output_type": "stream",
          "text": [
            "Downloading and preparing dataset 80.23 MiB (download: 80.23 MiB, generated: Unknown size, total: 80.23 MiB) to /root/tensorflow_datasets/imdb_reviews/plain_text/1.0.0...\n",
            "Dataset imdb_reviews downloaded and prepared to /root/tensorflow_datasets/imdb_reviews/plain_text/1.0.0. Subsequent calls will reuse this data.\n"
          ]
        },
        {
          "data": {
            "text/plain": [
              "(TensorSpec(shape=(), dtype=tf.string, name=None),\n",
              " TensorSpec(shape=(), dtype=tf.int64, name=None))"
            ]
          },
          "execution_count": 5,
          "metadata": {},
          "output_type": "execute_result"
        }
      ],
      "source": [
        "dataset, info = tfds.load('imdb_reviews', with_info=True,\n",
        "                          as_supervised=True)\n",
        "train_dataset, test_dataset = dataset['train'], dataset['test']\n",
        "\n",
        "train_dataset.element_spec"
      ]
    },
    {
      "cell_type": "markdown",
      "metadata": {
        "id": "SMOB6iFc3Ekx"
      },
      "source": [
        "Awalnya ini mengembalikan dataset (teks, pasangan label):"
      ]
    },
    {
      "cell_type": "code",
      "execution_count": null,
      "metadata": {
        "colab": {
          "base_uri": "https://localhost:8080/"
        },
        "id": "7DU6VtjL3CVt",
        "outputId": "3bdf09ac-c6a1-430d-db15-cc33c5e80c1a"
      },
      "outputs": [
        {
          "name": "stdout",
          "output_type": "stream",
          "text": [
            "text:  b\"This was an absolutely terrible movie. Don't be lured in by Christopher Walken or Michael Ironside. Both are great actors, but this must simply be their worst role in history. Even their great acting could not redeem this movie's ridiculous storyline. This movie is an early nineties US propaganda piece. The most pathetic scenes were those when the Columbian rebels were making their cases for revolutions. Maria Conchita Alonso appeared phony, and her pseudo-love affair with Walken was nothing but a pathetic emotional plug in a movie that was devoid of any real meaning. I am disappointed that there are movies like this, ruining actor's like Christopher Walken's good name. I could barely sit through it.\"\n",
            "label:  0\n"
          ]
        }
      ],
      "source": [
        "for example, label in train_dataset.take(1):\n",
        "  print('text: ', example.numpy())\n",
        "  print('label: ', label.numpy())"
      ]
    },
    {
      "cell_type": "markdown",
      "metadata": {
        "id": "kU9a6vzu3IlG"
      },
      "source": [
        "Berikutnya acak data untuk pelatihan dan membuat kumpulan pasangan (teks, label) ini:"
      ]
    },
    {
      "cell_type": "code",
      "execution_count": null,
      "metadata": {
        "colab": {
          "base_uri": "https://localhost:8080/"
        },
        "id": "uZgol6Kn3JOn",
        "outputId": "804f22a3-848a-4b4f-96da-e3dd70dee922"
      },
      "outputs": [
        {
          "name": "stdout",
          "output_type": "stream",
          "text": [
            "texts:  [b'The acting in this movie stinks. The plot makes very little sense, but from what I gathered it\\'s supposed to be about this scientist who develops the ability to turn people\\'s personal items into tiny steel balls that then fly into their mouths and turn them into zombies (or blow their heads up, whichever). And the effects are lousy, too. Most of the movie consists of bad music, with the actors dancing equally as badly to the bad music, interspersed with multiple boring sex scenes. This should be one of the worst things ever made, but for one thing. One element of shear brilliance that makes \"Nightmare Weekend\" stand above all others. And that special quality is the presence of George.<br /><br />George is the lovable interface device between the scientist\\'s daughter, Jessica, and the home computer security system. With his green hair and nose, balding scalp, and heart-shaped mouth, George is the guardian angel/confidant to Jessica, who asks him for advice on how to meet guys in one of the most dramatic pieces of dialogue ever captured on celluloid. With his monotone synthesized voice, George tells Jessica what percentages of males prefer women in white dresses, and also that hitch-hiking is the third best way to meet guys after discos and bars. Of course, little Jessica just can\\'t seem to stay out of trouble, causing George to execute \"Emergency Program Code: Protection Jessica\", which results in the violent death of Jessica\\'s would-be assailant via one of the aforementioned steel balls.<br /><br />Kubrick was an utter fool for thinking he could give a computer personality using closeups of a red light. HAL should have been represented by our friend George in order to better translate compassion for his eventual demise. The light and sound show at the end of \"Close Encounters\"? Not bad, but how much better would that movie had been if the means of first communication with the aliens had been George the Hand Puppet. Bishop, Data, R2 \\xc2\\x96 kitchen appliances next to the Almighty George! He might only be in the movie for 8 minutes out of 90, but don\\'t be fooled. This show is all about George. With even that limited amount of screentime, George joins the ranks of such luminous film characters as Hollywood Montrose, Majai, and Pappy from \"New Moon Rising\" as icons of American cinema. \"George to Apache\" \\xc2\\x96 you are my hero.'\n",
            " b'I\\'m afraid that I didn\\'t like this movie very much. Apart from a few saving graces, it\\'s nothing to write home about. <br /><br />J-horror has boomed for the last five-six years but the films themselves have on more than one account been repetitive and carbon copies of a previous success. This is one of them.<br /><br />Basically this is a supernatural slasher movie. The beginning is promising with chilling scenes from a morgue where a dead girl has her eyes graphically sewn together, but soon after opens them. However, after that, it\\'s quickly downhill for this flick.<br /><br />To be kind I will start with the things I like about \"Gawi\". On the plus side, the visuals are gaudy and the movie looks great for it\\'s type. For those who like their horror movies gory there are a few nicely executed (no pun intended) murder scenes. We also get a few good suspense sequences/set-pieces.<br /><br />However, there are quite a few drawbacks also...<br /><br />First of all, and my major complaint about this movie, is that the plot skips and jumps forwards and backwards in time with an alarming intensity. Usually that\\'s not a problem for me, but here, where the students look exactly the same no matter what age they are, I was confused on more than one occasion.<br /><br />The performances are okay I guess (a little hard to tell when you don\\'t know the language), but seem a little stiff. And for a horror movie, I don\\'t think it was scary enough. For a while I was quite bored actually.<br /><br />Being a fan of giallo movies, I was expecting quite a lot from \"Nightmare\", but unfortunately I was quite disappointed.'\n",
            " b\"The last film in Lucas' saga is a lavish, spectacular-looking production. It is often considered the ugly duckling of the original trilogy, but I think it is a notch above episode IV (and just a notch below episodes III and V). In fact, I think it is the third best film in the 6-part saga. As far as I'm concerned, it is still a grandiosely entertaining film. It is not a movie with a beginning, climax and ending; the film's mechanism operates with only one goal in its mind: bring closure to Lucas' universe. There is an air of finality attached to the whole thing, which makes the film a little too sentimental, but emotionally rewarding. Also, it is a lot of fun. New characters are introduced and old ones face new, unexpected challenges. C3PO and R2D2 provide (as usual) great comic relief. Leia and Solo are a wonderful romantic duo, and Luke is still a great character to identify with. Again, it is Luke's (and Vader's) inner conflict what gives the saga its backbone. Lucas' aggressive imagination is still very much apparent, and the film's themes of loyalty, hope, and redemption resonate strongly. I'm glad Lucas eventually dropped the idea of making episode VII, VIII and IX, because this film is a great bookend to a long, fascinating and captivating saga. Not a perfect movie, but fun in the best matin\\xc3\\xa9e style.\"]\n",
            "\n",
            "labels:  [0 0 1]\n"
          ]
        }
      ],
      "source": [
        "BUFFER_SIZE = 10000\n",
        "BATCH_SIZE = 64\n",
        "\n",
        "train_dataset = train_dataset.shuffle(BUFFER_SIZE).batch(BATCH_SIZE).prefetch(tf.data.AUTOTUNE)\n",
        "test_dataset = test_dataset.batch(BATCH_SIZE).prefetch(tf.data.AUTOTUNE)\n",
        "\n",
        "for example, label in train_dataset.take(1):\n",
        "  print('texts: ', example.numpy()[:3])\n",
        "  print()\n",
        "  print('labels: ', label.numpy()[:3])\n"
      ]
    },
    {
      "cell_type": "markdown",
      "metadata": {
        "id": "1P3-x4hm3LZO"
      },
      "source": [
        "## Buat Teks Encoder"
      ]
    },
    {
      "cell_type": "markdown",
      "metadata": {
        "id": "TFx_y-Sf3Ur3"
      },
      "source": [
        "Teks mentah yang dimuat oleh tfds perlu diproses sebelum dapat digunakan dalam model. Cara termudah memproses teks untuk pelatihan adalah menggunakan lapisan TextVectorization. Lapisan ini memiliki banyak kemampuan, namun pada tutorial ini menggunakan perilaku default. Buat lapisan tersebut, dan teruskan teks kumpulan data ke metode .adapt lapisan:"
      ]
    },
    {
      "cell_type": "code",
      "execution_count": null,
      "metadata": {
        "id": "NfDd53pe3SbB"
      },
      "outputs": [],
      "source": [
        "VOCAB_SIZE = 1000\n",
        "encoder = tf.keras.layers.TextVectorization(\n",
        "    max_tokens=VOCAB_SIZE)\n",
        "encoder.adapt(train_dataset.map(lambda text, label: text))"
      ]
    },
    {
      "cell_type": "markdown",
      "metadata": {
        "id": "hw2oFS-e3YXd"
      },
      "source": [
        "Metode .adapt mengatur kosakata lapisan. 20 token pertama dapat dilihat dengan kode berikut. Setelah padding dan token yang tidak diketahui, mereka diurutkan berdasarkan frekuensi:"
      ]
    },
    {
      "cell_type": "code",
      "execution_count": null,
      "metadata": {
        "colab": {
          "base_uri": "https://localhost:8080/"
        },
        "id": "NoZrCaXR3aC9",
        "outputId": "96aabb33-e89f-4beb-882f-46a31d1c481c"
      },
      "outputs": [
        {
          "data": {
            "text/plain": [
              "array(['', '[UNK]', 'the', 'and', 'a', 'of', 'to', 'is', 'in', 'it', 'i',\n",
              "       'this', 'that', 'br', 'was', 'as', 'for', 'with', 'movie', 'but'],\n",
              "      dtype='<U14')"
            ]
          },
          "execution_count": 8,
          "metadata": {},
          "output_type": "execute_result"
        }
      ],
      "source": [
        "vocab = np.array(encoder.get_vocabulary())\n",
        "vocab[:20]"
      ]
    },
    {
      "cell_type": "markdown",
      "metadata": {
        "id": "WHjLhC793b_V"
      },
      "source": [
        "Setelah kosakata diatur, lapisan dapat mengkodekan teks ke dalam indeks. Tensor indeks diberi bantalan 0 ke urutan terpanjang dalam batch (kecuali jika Anda menetapkan output_sequence_length tetap):"
      ]
    },
    {
      "cell_type": "code",
      "execution_count": null,
      "metadata": {
        "colab": {
          "base_uri": "https://localhost:8080/"
        },
        "id": "GfyfVbpm3clV",
        "outputId": "88c7c78c-b655-4670-95ca-70a4a83a16f0"
      },
      "outputs": [
        {
          "data": {
            "text/plain": [
              "array([[  2, 112,   8, ...,   0,   0,   0],\n",
              "       [142,   1,  12, ...,   0,   0,   0],\n",
              "       [  2, 226,  20, ...,   0,   0,   0]])"
            ]
          },
          "execution_count": 9,
          "metadata": {},
          "output_type": "execute_result"
        }
      ],
      "source": [
        "encoded_example = encoder(example)[:3].numpy()\n",
        "encoded_example"
      ]
    },
    {
      "cell_type": "markdown",
      "metadata": {
        "id": "P0RZ9LM53eWN"
      },
      "source": [
        "Dengan pengaturan default, prosesnya tidak dapat dibalik sepenuhnya. Ada dua alasan utama untuk itu:\n",
        "-Nilai default untuk argumen standarisasi preprocessing.TextVectorization adalah \"lower_and_strip_punctuation\".\n",
        "-Ukuran kosa kata yang terbatas dan kurangnya fallback berbasis karakter menghasilkan beberapa token yang tidak diketahui."
      ]
    },
    {
      "cell_type": "code",
      "execution_count": null,
      "metadata": {
        "colab": {
          "base_uri": "https://localhost:8080/"
        },
        "id": "LWUntDL_3g3V",
        "outputId": "c9aaf03b-503f-41d5-90c4-64939e030e15"
      },
      "outputs": [
        {
          "name": "stdout",
          "output_type": "stream",
          "text": [
            "Original:  b'The acting in this movie stinks. The plot makes very little sense, but from what I gathered it\\'s supposed to be about this scientist who develops the ability to turn people\\'s personal items into tiny steel balls that then fly into their mouths and turn them into zombies (or blow their heads up, whichever). And the effects are lousy, too. Most of the movie consists of bad music, with the actors dancing equally as badly to the bad music, interspersed with multiple boring sex scenes. This should be one of the worst things ever made, but for one thing. One element of shear brilliance that makes \"Nightmare Weekend\" stand above all others. And that special quality is the presence of George.<br /><br />George is the lovable interface device between the scientist\\'s daughter, Jessica, and the home computer security system. With his green hair and nose, balding scalp, and heart-shaped mouth, George is the guardian angel/confidant to Jessica, who asks him for advice on how to meet guys in one of the most dramatic pieces of dialogue ever captured on celluloid. With his monotone synthesized voice, George tells Jessica what percentages of males prefer women in white dresses, and also that hitch-hiking is the third best way to meet guys after discos and bars. Of course, little Jessica just can\\'t seem to stay out of trouble, causing George to execute \"Emergency Program Code: Protection Jessica\", which results in the violent death of Jessica\\'s would-be assailant via one of the aforementioned steel balls.<br /><br />Kubrick was an utter fool for thinking he could give a computer personality using closeups of a red light. HAL should have been represented by our friend George in order to better translate compassion for his eventual demise. The light and sound show at the end of \"Close Encounters\"? Not bad, but how much better would that movie had been if the means of first communication with the aliens had been George the Hand Puppet. Bishop, Data, R2 \\xc2\\x96 kitchen appliances next to the Almighty George! He might only be in the movie for 8 minutes out of 90, but don\\'t be fooled. This show is all about George. With even that limited amount of screentime, George joins the ranks of such luminous film characters as Hollywood Montrose, Majai, and Pappy from \"New Moon Rising\" as icons of American cinema. \"George to Apache\" \\xc2\\x96 you are my hero.'\n",
            "Round-trip:  the acting in this movie [UNK] the plot makes very little sense but from what i [UNK] its supposed to be about this [UNK] who [UNK] the [UNK] to turn [UNK] personal [UNK] into [UNK] [UNK] [UNK] that then [UNK] into their [UNK] and turn them into [UNK] or [UNK] their [UNK] up [UNK] and the effects are [UNK] too most of the movie [UNK] of bad music with the actors [UNK] [UNK] as badly to the bad music [UNK] with [UNK] boring sex scenes this should be one of the worst things ever made but for one thing one [UNK] of [UNK] [UNK] that makes [UNK] [UNK] stand above all others and that special quality is the [UNK] of [UNK] br george is the [UNK] [UNK] [UNK] between the [UNK] daughter [UNK] and the home [UNK] [UNK] [UNK] with his [UNK] [UNK] and [UNK] [UNK] [UNK] and [UNK] [UNK] george is the [UNK] [UNK] to [UNK] who [UNK] him for [UNK] on how to meet guys in one of the most dramatic [UNK] of dialogue ever [UNK] on [UNK] with his [UNK] [UNK] voice george tells [UNK] what [UNK] of [UNK] [UNK] women in white [UNK] and also that [UNK] is the third best way to meet guys after [UNK] and [UNK] of course little [UNK] just cant seem to stay out of [UNK] [UNK] george to [UNK] [UNK] [UNK] [UNK] [UNK] [UNK] which [UNK] in the [UNK] death of [UNK] [UNK] [UNK] [UNK] one of the [UNK] [UNK] [UNK] br [UNK] was an [UNK] [UNK] for thinking he could give a [UNK] [UNK] using [UNK] of a red light [UNK] should have been [UNK] by our friend george in order to better [UNK] [UNK] for his [UNK] [UNK] the light and sound show at the end of close [UNK] not bad but how much better would that movie had been if the means of first [UNK] with the [UNK] had been george the hand [UNK] [UNK] [UNK] [UNK]  [UNK] [UNK] next to the [UNK] george he might only be in the movie for [UNK] minutes out of [UNK] but dont be [UNK] this show is all about george with even that [UNK] [UNK] of [UNK] george [UNK] the [UNK] of such [UNK] film characters as hollywood [UNK] [UNK] and [UNK] from new [UNK] [UNK] as [UNK] of american cinema george to [UNK]  you are my hero                                                                                                                                                                                                                                                                                                                                                                                                                                                                                                                                                                                  \n",
            "\n",
            "Original:  b'I\\'m afraid that I didn\\'t like this movie very much. Apart from a few saving graces, it\\'s nothing to write home about. <br /><br />J-horror has boomed for the last five-six years but the films themselves have on more than one account been repetitive and carbon copies of a previous success. This is one of them.<br /><br />Basically this is a supernatural slasher movie. The beginning is promising with chilling scenes from a morgue where a dead girl has her eyes graphically sewn together, but soon after opens them. However, after that, it\\'s quickly downhill for this flick.<br /><br />To be kind I will start with the things I like about \"Gawi\". On the plus side, the visuals are gaudy and the movie looks great for it\\'s type. For those who like their horror movies gory there are a few nicely executed (no pun intended) murder scenes. We also get a few good suspense sequences/set-pieces.<br /><br />However, there are quite a few drawbacks also...<br /><br />First of all, and my major complaint about this movie, is that the plot skips and jumps forwards and backwards in time with an alarming intensity. Usually that\\'s not a problem for me, but here, where the students look exactly the same no matter what age they are, I was confused on more than one occasion.<br /><br />The performances are okay I guess (a little hard to tell when you don\\'t know the language), but seem a little stiff. And for a horror movie, I don\\'t think it was scary enough. For a while I was quite bored actually.<br /><br />Being a fan of giallo movies, I was expecting quite a lot from \"Nightmare\", but unfortunately I was quite disappointed.'\n",
            "Round-trip:  im [UNK] that i didnt like this movie very much apart from a few [UNK] [UNK] its nothing to write home about br br [UNK] has [UNK] for the last [UNK] years but the films themselves have on more than one [UNK] been [UNK] and [UNK] [UNK] of a previous [UNK] this is one of [UNK] br basically this is a [UNK] [UNK] movie the beginning is [UNK] with [UNK] scenes from a [UNK] where a dead girl has her eyes [UNK] [UNK] together but soon after [UNK] them however after that its quickly [UNK] for this [UNK] br to be kind i will start with the things i like about [UNK] on the plus side the [UNK] are [UNK] and the movie looks great for its type for those who like their horror movies [UNK] there are a few [UNK] [UNK] no [UNK] [UNK] murder scenes we also get a few good suspense [UNK] br however there are quite a few [UNK] [UNK] br first of all and my major [UNK] about this movie is that the plot [UNK] and [UNK] [UNK] and [UNK] in time with an [UNK] [UNK] usually thats not a problem for me but here where the [UNK] look exactly the same no matter what age they are i was [UNK] on more than one [UNK] br the performances are okay i guess a little hard to tell when you dont know the [UNK] but seem a little [UNK] and for a horror movie i dont think it was scary enough for a while i was quite [UNK] [UNK] br being a fan of [UNK] movies i was expecting quite a lot from [UNK] but unfortunately i was quite disappointed                                                                                                                                                                                                                                                                                                                                                                                                                                                                                                                                                                                                                                                                                                     \n",
            "\n",
            "Original:  b\"The last film in Lucas' saga is a lavish, spectacular-looking production. It is often considered the ugly duckling of the original trilogy, but I think it is a notch above episode IV (and just a notch below episodes III and V). In fact, I think it is the third best film in the 6-part saga. As far as I'm concerned, it is still a grandiosely entertaining film. It is not a movie with a beginning, climax and ending; the film's mechanism operates with only one goal in its mind: bring closure to Lucas' universe. There is an air of finality attached to the whole thing, which makes the film a little too sentimental, but emotionally rewarding. Also, it is a lot of fun. New characters are introduced and old ones face new, unexpected challenges. C3PO and R2D2 provide (as usual) great comic relief. Leia and Solo are a wonderful romantic duo, and Luke is still a great character to identify with. Again, it is Luke's (and Vader's) inner conflict what gives the saga its backbone. Lucas' aggressive imagination is still very much apparent, and the film's themes of loyalty, hope, and redemption resonate strongly. I'm glad Lucas eventually dropped the idea of making episode VII, VIII and IX, because this film is a great bookend to a long, fascinating and captivating saga. Not a perfect movie, but fun in the best matin\\xc3\\xa9e style.\"\n",
            "Round-trip:  the last film in [UNK] [UNK] is a [UNK] [UNK] production it is often [UNK] the [UNK] [UNK] of the original [UNK] but i think it is a [UNK] above episode [UNK] and just a [UNK] [UNK] episodes [UNK] and [UNK] in fact i think it is the third best film in the [UNK] [UNK] as far as im [UNK] it is still a [UNK] entertaining film it is not a movie with a beginning [UNK] and ending the films [UNK] [UNK] with only one [UNK] in its mind bring [UNK] to [UNK] [UNK] there is an air of [UNK] [UNK] to the whole thing which makes the film a little too [UNK] but [UNK] [UNK] also it is a lot of fun new characters are [UNK] and old ones face new [UNK] [UNK] [UNK] and [UNK] [UNK] as usual great comic [UNK] [UNK] and [UNK] are a wonderful romantic [UNK] and [UNK] is still a great character to [UNK] with again it is [UNK] and [UNK] [UNK] [UNK] what gives the [UNK] its [UNK] [UNK] [UNK] [UNK] is still very much [UNK] and the films [UNK] of [UNK] hope and [UNK] [UNK] [UNK] im [UNK] [UNK] eventually [UNK] the idea of making episode [UNK] [UNK] and [UNK] because this film is a great [UNK] to a long [UNK] and [UNK] [UNK] not a perfect movie but fun in the best [UNK] style                                                                                                                                                                                                                                                                                                                                                                                                                                                                                                                                                                                                                                                                                                                                                         \n",
            "\n"
          ]
        }
      ],
      "source": [
        "for n in range(3):\n",
        "  print(\"Original: \", example[n].numpy())\n",
        "  print(\"Round-trip: \", \" \".join(vocab[encoded_example[n]]))\n",
        "  print()"
      ]
    },
    {
      "cell_type": "markdown",
      "metadata": {
        "id": "hw9i2goT3l6c"
      },
      "source": [
        "diagram model dapat dilihat pada gambar diatas\n",
        "\n",
        "1. Model ini dapat dibuat sebagai tf.keras.Sequential.\n",
        "\n",
        "2. Lapisan pertama adalah encoder, yang mengubah teks menjadi urutan indeks token.\n",
        "\n",
        "3. Setelah encoder adalah lapisan penyematan (embedding layer). Lapisan penyematan menyimpan satu vektor per kata. Saat dipanggil, ini mengubah rangkaian indeks kata menjadi rangkaian vektor. Vektor-vektor ini dapat dilatih. Setelah pelatihan (dengan data yang cukup), kata-kata dengan arti yang mirip sering kali memiliki vektor yang serupa. Pencarian indeks ini jauh lebih efisien daripada operasi setara dengan meneruskan vektor yang disandikan one-hot melalui lapisan tf.keras.layers.Dense.\n",
        "\n",
        "4. Jaringan saraf berulang (RNN) memproses masukan urutan dengan melakukan iterasi melalui elemen. RNN meneruskan keluaran dari satu langkah waktu ke masukannya pada langkah waktu berikutnya.\n",
        "Pembungkus tf.keras.layers.Bidirection juga dapat digunakan dengan lapisan RNN. Ini menyebarkan masukan maju dan mundur melalui lapisan RNN dan kemudian menggabungkan keluaran akhir.\n",
        "\n",
        "a. Keuntungan utama RNN dua arah adalah sinyal dari awal masukan tidak perlu diproses sepanjang waktu untuk memengaruhi keluaran.\n",
        "\n",
        "b. Kerugian utama dari RNN dua arah adalah Anda tidak dapat melakukan streaming prediksi secara efisien saat kata-kata ditambahkan di akhir.\n",
        "\n",
        "5. Setelah RNN mengonversi urutan menjadi satu vektor, kedua lapisan tersebut.Dense melakukan beberapa pemrosesan akhir, dan mengonversi representasi vektor ini menjadi logit tunggal sebagai keluaran klasifikasi.\n",
        "Kode nya adalah sebagai berikut :"
      ]
    },
    {
      "cell_type": "code",
      "execution_count": null,
      "metadata": {
        "id": "RyPw4AcA3mzG"
      },
      "outputs": [],
      "source": [
        "model = tf.keras.Sequential([\n",
        "    encoder,\n",
        "    tf.keras.layers.Embedding(\n",
        "        input_dim=len(encoder.get_vocabulary()),\n",
        "        output_dim=64,\n",
        "        # Use masking to handle the variable sequence lengths\n",
        "        mask_zero=True),\n",
        "    tf.keras.layers.Bidirectional(tf.keras.layers.LSTM(64)),\n",
        "    tf.keras.layers.Dense(64, activation='relu'),\n",
        "    tf.keras.layers.Dense(1)\n",
        "])"
      ]
    },
    {
      "cell_type": "markdown",
      "metadata": {
        "id": "7EH3P1TY4Ejl"
      },
      "source": [
        "Harap dicatat bahwa model sekuensial Keras digunakan di sini karena semua lapisan dalam model hanya memiliki masukan tunggal dan menghasilkan keluaran tunggal. Jika Anda ingin menggunakan lapisan RNN stateful, Anda mungkin ingin membangun model Anda dengan API fungsional Keras atau subkelas model sehingga Anda dapat mengambil dan menggunakan kembali status lapisan RNN. Untuk detailnya bisa dilihat pada Keras RNN guide\n",
        "\n",
        "Lapisan penyematan menggunakan masking (uses masking ) untuk menangani panjang urutan yang bervariasi. Semua lapisan setelah penyematan dukungan penyematan"
      ]
    },
    {
      "cell_type": "code",
      "execution_count": null,
      "metadata": {
        "colab": {
          "base_uri": "https://localhost:8080/"
        },
        "id": "elIAT23J4GWt",
        "outputId": "ce2ae936-eef5-48fe-eba2-4cada4ee486b"
      },
      "outputs": [
        {
          "name": "stdout",
          "output_type": "stream",
          "text": [
            "[False, True, True, True, True]\n"
          ]
        }
      ],
      "source": [
        "print([layer.supports_masking for layer in model.layers])"
      ]
    },
    {
      "cell_type": "markdown",
      "metadata": {
        "id": "ka6ayKRH4J_1"
      },
      "source": [
        "Untuk memastikan bahwa ini berfungsi seperti yang diharapkan, evaluasi sebuah kalimat dua kali. Pertama, satu kalimat sehingga tidak ada bantalan (padding) untuk disamarkan:"
      ]
    },
    {
      "cell_type": "code",
      "execution_count": null,
      "metadata": {
        "colab": {
          "base_uri": "https://localhost:8080/"
        },
        "id": "403J0Wsm4KyF",
        "outputId": "4ebfd7e3-2284-4217-f806-66e18651bba7"
      },
      "outputs": [
        {
          "name": "stdout",
          "output_type": "stream",
          "text": [
            "1/1 [==============================] - 3s 3s/step\n",
            "[-0.0086846]\n"
          ]
        }
      ],
      "source": [
        "# predict on a sample text without padding.\n",
        "\n",
        "sample_text = ('The movie was cool. The animation and the graphics '\n",
        "               'were out of this world. I would recommend this movie.')\n",
        "predictions = model.predict(np.array([sample_text]))\n",
        "print(predictions[0])"
      ]
    },
    {
      "cell_type": "markdown",
      "metadata": {
        "id": "uccPKuvK4Nwr"
      },
      "source": [
        "Sekarang, evaluasi lagi dalam batch dengan kalimat yang lebih panjang. Hasilnya harus sama:"
      ]
    },
    {
      "cell_type": "code",
      "execution_count": null,
      "metadata": {
        "colab": {
          "base_uri": "https://localhost:8080/"
        },
        "id": "kRqvyNGu4PRM",
        "outputId": "1c4d86d4-5b01-4075-bf2a-4cffad87420e"
      },
      "outputs": [
        {
          "name": "stdout",
          "output_type": "stream",
          "text": [
            "1/1 [==============================] - 0s 346ms/step\n",
            "[-0.00868461]\n"
          ]
        }
      ],
      "source": [
        "# predict on a sample text with padding\n",
        "\n",
        "padding = \"the \" * 2000\n",
        "predictions = model.predict(np.array([sample_text, padding]))\n",
        "print(predictions[0])"
      ]
    },
    {
      "cell_type": "markdown",
      "metadata": {
        "id": "ageFgGOE4Rzm"
      },
      "source": [
        "compile model Keras untuk mengonfigurasi proses pelatihan:"
      ]
    },
    {
      "cell_type": "code",
      "execution_count": null,
      "metadata": {
        "id": "Et_QdlrL4T0W"
      },
      "outputs": [],
      "source": [
        "model.compile(loss=tf.keras.losses.BinaryCrossentropy(from_logits=True),\n",
        "              optimizer=tf.keras.optimizers.Adam(1e-4),\n",
        "              metrics=['accuracy'])"
      ]
    },
    {
      "cell_type": "markdown",
      "metadata": {
        "id": "kX9rQ3Wj4daW"
      },
      "source": [
        "## Train Model"
      ]
    },
    {
      "cell_type": "code",
      "execution_count": null,
      "metadata": {
        "colab": {
          "base_uri": "https://localhost:8080/"
        },
        "id": "xoqxpX-x4gig",
        "outputId": "e8b3c705-0a80-4dc8-d1b3-6c73cdd9f229"
      },
      "outputs": [
        {
          "name": "stdout",
          "output_type": "stream",
          "text": [
            "Epoch 1/10\n",
            "391/391 [==============================] - 585s 1s/step - loss: 0.6364 - accuracy: 0.5760 - val_loss: 0.5007 - val_accuracy: 0.7531\n",
            "Epoch 2/10\n",
            "391/391 [==============================] - 567s 1s/step - loss: 0.4075 - accuracy: 0.8158 - val_loss: 0.3603 - val_accuracy: 0.8422\n",
            "Epoch 3/10\n",
            "391/391 [==============================] - 580s 1s/step - loss: 0.3452 - accuracy: 0.8476 - val_loss: 0.3435 - val_accuracy: 0.8552\n",
            "Epoch 4/10\n",
            "391/391 [==============================] - 569s 1s/step - loss: 0.3239 - accuracy: 0.8616 - val_loss: 0.3293 - val_accuracy: 0.8495\n",
            "Epoch 5/10\n",
            "391/391 [==============================] - 578s 1s/step - loss: 0.3133 - accuracy: 0.8659 - val_loss: 0.3228 - val_accuracy: 0.8661\n",
            "Epoch 6/10\n",
            "391/391 [==============================] - 572s 1s/step - loss: 0.3094 - accuracy: 0.8682 - val_loss: 0.3251 - val_accuracy: 0.8641\n",
            "Epoch 7/10\n",
            "391/391 [==============================] - 585s 1s/step - loss: 0.3036 - accuracy: 0.8705 - val_loss: 0.3223 - val_accuracy: 0.8641\n",
            "Epoch 8/10\n",
            "391/391 [==============================] - 586s 2s/step - loss: 0.3001 - accuracy: 0.8720 - val_loss: 0.3297 - val_accuracy: 0.8609\n",
            "Epoch 9/10\n",
            "391/391 [==============================] - 587s 2s/step - loss: 0.2983 - accuracy: 0.8724 - val_loss: 0.3232 - val_accuracy: 0.8641\n",
            "Epoch 10/10\n",
            "391/391 [==============================] - 585s 1s/step - loss: 0.2951 - accuracy: 0.8745 - val_loss: 0.3172 - val_accuracy: 0.8578\n"
          ]
        }
      ],
      "source": [
        "history = model.fit(train_dataset, epochs=10,\n",
        "                    validation_data=test_dataset,\n",
        "                    validation_steps=30)"
      ]
    },
    {
      "cell_type": "code",
      "execution_count": null,
      "metadata": {
        "colab": {
          "base_uri": "https://localhost:8080/"
        },
        "id": "oucYYh6M4hLN",
        "outputId": "f7da8f6d-9b88-40fc-84ee-eb64be4cea20"
      },
      "outputs": [
        {
          "name": "stdout",
          "output_type": "stream",
          "text": [
            "391/391 [==============================] - 143s 365ms/step - loss: 0.3137 - accuracy: 0.8614\n",
            "Test Loss: 0.3137170970439911\n",
            "Test Accuracy: 0.8614400029182434\n"
          ]
        }
      ],
      "source": [
        "test_loss, test_acc = model.evaluate(test_dataset)\n",
        "\n",
        "print('Test Loss:', test_loss)\n",
        "print('Test Accuracy:', test_acc)"
      ]
    },
    {
      "cell_type": "code",
      "execution_count": null,
      "metadata": {
        "colab": {
          "base_uri": "https://localhost:8080/",
          "height": 718
        },
        "id": "Ns2687TM4j59",
        "outputId": "24317205-da4d-443e-d9da-2ec194fade81"
      },
      "outputs": [
        {
          "data": {
            "text/plain": [
              "(0.0, 0.6534963577985764)"
            ]
          },
          "execution_count": 18,
          "metadata": {},
          "output_type": "execute_result"
        },
        {
          "data": {
            "image/png": "[encoded data removed]",
            "text/plain": [
              "<Figure size 1600x800 with 2 Axes>"
            ]
          },
          "metadata": {},
          "output_type": "display_data"
        }
      ],
      "source": [
        "plt.figure(figsize=(16, 8))\n",
        "plt.subplot(1, 2, 1)\n",
        "plot_graphs(history, 'accuracy')\n",
        "plt.ylim(None, 1)\n",
        "plt.subplot(1, 2, 2)\n",
        "plot_graphs(history, 'loss')\n",
        "plt.ylim(0, None)"
      ]
    },
    {
      "cell_type": "markdown",
      "metadata": {
        "id": "kbUBBAlN4nCX"
      },
      "source": [
        "Jalankan prediksi pada kalimat baru:\n",
        "\n",
        "Jika prediksi >= 0,0 berarti positif, jika tidak maka negatif."
      ]
    },
    {
      "cell_type": "code",
      "execution_count": null,
      "metadata": {
        "colab": {
          "base_uri": "https://localhost:8080/"
        },
        "id": "FG-0EqDd4qqr",
        "outputId": "2bef6710-5e90-423f-f75a-cd932480ccf3"
      },
      "outputs": [
        {
          "name": "stdout",
          "output_type": "stream",
          "text": [
            "1/1 [==============================] - 5s 5s/step\n"
          ]
        }
      ],
      "source": [
        "sample_text = ('The movie was cool. The animation and the graphics '\n",
        "'were out of this world. I would recommend this movie.')\n",
        "predictions = model.predict(np.array([sample_text]))"
      ]
    },
    {
      "cell_type": "markdown",
      "metadata": {
        "id": "EjZKZ48Z4ug5"
      },
      "source": [
        "## Stack two or more LSTM layers"
      ]
    },
    {
      "cell_type": "markdown",
      "metadata": {
        "id": "GkFFT4Cm4xu2"
      },
      "source": [
        "Lapisan berulang Keras memiliki dua mode yang tersedia yang dikontrol oleh argumen konstruktor return_sequences :\n",
        "\n",
        "Jika False, ia hanya mengembalikan keluaran terakhir untuk setiap urutan masukan (bentuk tensor 2D (batch_size, output_features)). Ini adalah default yang digunakan pada model sebelumnya.\n",
        "\n",
        "Jika True, Sequence lengkap output berturut-turut untuk setiap langkah waktu dikembalikan (bentuk tensor 3D (ukuran_batch, langkah waktu, fitur_output)).\n",
        "Berikut adalah alur informasi dengan return_sequences=True:\n",
        "\n",
        "Hal yang menarik dari penggunaan RNN dengan return_sequences=True adalah outputnya masih memiliki 3 axis, sama seperti inputnya, sehingga bisa diteruskan ke layer RNN lain, seperti ini:"
      ]
    },
    {
      "cell_type": "code",
      "execution_count": null,
      "metadata": {
        "id": "W7b1zY8R48Pd"
      },
      "outputs": [],
      "source": [
        "model = tf.keras.Sequential([\n",
        "    encoder,\n",
        "    tf.keras.layers.Embedding(len(encoder.get_vocabulary()), 64, mask_zero=True),\n",
        "    tf.keras.layers.Bidirectional(tf.keras.layers.LSTM(64, return_sequences=True)),\n",
        "    tf.keras.layers.Bidirectional(tf.keras.layers.LSTM(32)),\n",
        "    tf.keras.layers.Dense(64, activation='relu'),\n",
        "    tf.keras.layers.Dropout(0.5),\n",
        "    tf.keras.layers.Dense(1)\n",
        "])"
      ]
    },
    {
      "cell_type": "code",
      "execution_count": null,
      "metadata": {
        "id": "aHUhqZd-49yZ"
      },
      "outputs": [],
      "source": [
        "model.compile(loss=tf.keras.losses.BinaryCrossentropy(from_logits=True),\n",
        "              optimizer=tf.keras.optimizers.Adam(1e-4),\n",
        "              metrics=['accuracy'])"
      ]
    },
    {
      "cell_type": "code",
      "execution_count": null,
      "metadata": {
        "colab": {
          "base_uri": "https://localhost:8080/"
        },
        "id": "E2oJEVhl5Aj8",
        "outputId": "888426a2-3f60-41be-cc30-8a39e33d0b63"
      },
      "outputs": [
        {
          "name": "stdout",
          "output_type": "stream",
          "text": [
            "Epoch 1/10\n",
            "391/391 [==============================] - 1299s 3s/step - loss: 0.6181 - accuracy: 0.6015 - val_loss: 0.4254 - val_accuracy: 0.8109\n",
            "Epoch 2/10\n",
            "391/391 [==============================] - 1260s 3s/step - loss: 0.3793 - accuracy: 0.8334 - val_loss: 0.3466 - val_accuracy: 0.8516\n",
            "Epoch 3/10\n",
            "391/391 [==============================] - 1243s 3s/step - loss: 0.3351 - accuracy: 0.8566 - val_loss: 0.3340 - val_accuracy: 0.8458\n",
            "Epoch 4/10\n",
            "391/391 [==============================] - 1268s 3s/step - loss: 0.3207 - accuracy: 0.8619 - val_loss: 0.3309 - val_accuracy: 0.8422\n",
            "Epoch 5/10\n",
            "391/391 [==============================] - 1259s 3s/step - loss: 0.3132 - accuracy: 0.8653 - val_loss: 0.3326 - val_accuracy: 0.8526\n",
            "Epoch 6/10\n",
            "391/391 [==============================] - 1276s 3s/step - loss: 0.3083 - accuracy: 0.8671 - val_loss: 0.3179 - val_accuracy: 0.8547\n",
            "Epoch 7/10\n",
            "391/391 [==============================] - 1275s 3s/step - loss: 0.3040 - accuracy: 0.8704 - val_loss: 0.3181 - val_accuracy: 0.8589\n",
            "Epoch 8/10\n",
            "391/391 [==============================] - 1258s 3s/step - loss: 0.3009 - accuracy: 0.8696 - val_loss: 0.3310 - val_accuracy: 0.8380\n",
            "Epoch 9/10\n",
            "391/391 [==============================] - 1245s 3s/step - loss: 0.3015 - accuracy: 0.8696 - val_loss: 0.3206 - val_accuracy: 0.8490\n",
            "Epoch 10/10\n",
            "391/391 [==============================] - 1263s 3s/step - loss: 0.2992 - accuracy: 0.8714 - val_loss: 0.3295 - val_accuracy: 0.8646\n"
          ]
        }
      ],
      "source": [
        "history = model.fit(train_dataset, epochs=10,\n",
        "                    validation_data=test_dataset,\n",
        "                    validation_steps=30)"
      ]
    },
    {
      "cell_type": "code",
      "execution_count": null,
      "metadata": {
        "colab": {
          "base_uri": "https://localhost:8080/"
        },
        "id": "q62yzP-55FEE",
        "outputId": "271be857-9b3d-44b2-9a00-289250a49a19"
      },
      "outputs": [
        {
          "name": "stdout",
          "output_type": "stream",
          "text": [
            "391/391 [==============================] - 283s 725ms/step - loss: 0.3274 - accuracy: 0.8646\n",
            "Test Loss: 0.32744988799095154\n",
            "Test Accuracy: 0.8646000027656555\n"
          ]
        }
      ],
      "source": [
        "test_loss, test_acc = model.evaluate(test_dataset)\n",
        "\n",
        "print('Test Loss:', test_loss)\n",
        "print('Test Accuracy:', test_acc)"
      ]
    },
    {
      "cell_type": "code",
      "execution_count": null,
      "metadata": {
        "colab": {
          "base_uri": "https://localhost:8080/"
        },
        "id": "ridRw4gU5Gnc",
        "outputId": "e8e67118-4452-4439-dfe5-a78e96efceb3"
      },
      "outputs": [
        {
          "name": "stdout",
          "output_type": "stream",
          "text": [
            "1/1 [==============================] - 6s 6s/step\n",
            "[[-2.1117036]]\n"
          ]
        }
      ],
      "source": [
        "# predict on a sample text without padding.\n",
        "\n",
        "sample_text = ('The movie was not good. The animation and the graphics '\n",
        "'were terrible. I would not recommend this movie.')\n",
        "predictions = model.predict(np.array([sample_text]))\n",
        "print(predictions)"
      ]
    },
    {
      "cell_type": "code",
      "execution_count": null,
      "metadata": {
        "colab": {
          "base_uri": "https://localhost:8080/",
          "height": 542
        },
        "id": "jT8XOjJI5Ifu",
        "outputId": "fc6d8dff-8c5f-4f7e-842a-c6482ebc5da4"
      },
      "outputs": [
        {
          "data": {
            "image/png": "[encoded data removed]",
            "text/plain": [
              "<Figure size 1600x600 with 2 Axes>"
            ]
          },
          "metadata": {},
          "output_type": "display_data"
        }
      ],
      "source": [
        "plt.figure(figsize=(16, 6))\n",
        "plt.subplot(1, 2, 1)\n",
        "plot_graphs(history, 'accuracy')\n",
        "plt.subplot(1, 2, 2)\n",
        "plot_graphs(history, 'loss')"
      ]
    },
    {
      "cell_type": "markdown",
      "metadata": {
        "id": "2Fxclm1G6hdL"
      },
      "source": [
        "# Praktikum 2"
      ]
    },
    {
      "cell_type": "markdown",
      "metadata": {
        "id": "ktl9qrvQ6kgb"
      },
      "source": [
        "Praktikum ini mendemonstrasikan cara melakukan genearsi text menggunakan RNN. Dataset yang digunkan adalah dataset Shakespeare's writing from Andrej Karpathy's The Unreasonable Effectiveness of Recurrent Neural Networks. Jika diberikan urutan karakter dari data ini (\"Shakespear\"), latih model untuk memprediksi karakter berikutnya dalam urutan (\"e\"). Urutan teks yang lebih panjang dapat dihasilkan dengan memanggil model berulang kali.\n",
        "\n",
        "Note: Enable GPU acceleration to execute this notebook faster. In Colab: Runtime > Change runtime type > Hardware accelerator > GPU.\n",
        "\n",
        "Tutorial ini menggunakan tf.keras dan eager execution. Berikut adalah contoh output ketika model dalam tutorial ini dilatih selama 30 epoch, dan dimulai dengan prompt \"Q\":"
      ]
    },
    {
      "cell_type": "code",
      "execution_count": null,
      "metadata": {
        "id": "ikOdvXKO6rvQ"
      },
      "outputs": [],
      "source": [
        "QUEENE:\n",
        "I had thought thou hadst a Roman; for the oracle,\n",
        "Thus by All bids the man against the word,\n",
        "Which are so weak of care, by old care done;\n",
        "Your children were in your holy love,\n",
        "And the precipitation through the bleeding throne.\n",
        "\n",
        "BISHOP OF ELY:\n",
        "Marry, and will, my lord, to weep in such a one were prettiest;\n",
        "Yet now I was adopted heir\n",
        "Of the world's lamentable day,\n",
        "To watch the next way with his father with his face?\n",
        "\n",
        "ESCALUS:\n",
        "The cause why then we are all resolved more sons.\n",
        "\n",
        "VOLUMNIA:\n",
        "O, no, no, no, no, no, no, no, no, no, no, no, no, no, no, no, no, no, no, no, no, it is no sin it should be dead,\n",
        "And love and pale as any will to that word.\n",
        "\n",
        "QUEEN ELIZABETH:\n",
        "But how long have I heard the soul for this world,\n",
        "And show his hands of life be proved to stand.\n",
        "\n",
        "PETRUCHIO:\n",
        "I say he look'd on, if I must be content\n",
        "To stay him from the fatal of our country's bliss.\n",
        "His lordship pluck'd from this sentence then for prey,\n",
        "And then let us twain, being the moon,\n",
        "were she such a case as fills m"
      ]
    },
    {
      "cell_type": "markdown",
      "metadata": {
        "id": "oLCkUYyy6s-O"
      },
      "source": [
        "Meskipun beberapa kalimat memiliki tata bahasa, sebagian besar tidak masuk akal. Model belum mempelajari arti kata-kata, namun anggap saja:\n",
        "\n",
        "-Modelnya berbasis karakter. Saat pelatihan dimulai, model tidak mengetahui cara mengeja kata dalam bahasa Inggris, atau bahkan kata-kata tersebut merupakan satuan teks.\n",
        "\n",
        "-Struktur keluarannya menyerupai sandiwara—blok teks umumnya dimulai dengan nama pembicara, dengan huruf kapital semua mirip dengan kumpulan data.\n",
        "\n",
        "-Seperti yang ditunjukkan di bawah, model dilatih pada kumpulan teks kecil (masing-masing 100 karakter), dan masih mampu menghasilkan rangkaian teks yang lebih panjang dengan struktur yang koheren."
      ]
    },
    {
      "cell_type": "markdown",
      "metadata": {
        "id": "XDdUlC0g622g"
      },
      "source": [
        "## Setup"
      ]
    },
    {
      "cell_type": "markdown",
      "metadata": {
        "id": "37ZmcImA65n8"
      },
      "source": [
        "### Import TensorFlow"
      ]
    },
    {
      "cell_type": "code",
      "execution_count": 1,
      "metadata": {
        "id": "Pjue0LA-60ap"
      },
      "outputs": [],
      "source": [
        "import tensorflow as tf\n",
        "import numpy as np\n",
        "import os\n",
        "import time"
      ]
    },
    {
      "cell_type": "markdown",
      "metadata": {
        "id": "Ovs4Z-kd7BqP"
      },
      "source": [
        "### Download Dataset Shakespeare"
      ]
    },
    {
      "cell_type": "markdown",
      "metadata": {
        "id": "bqjCHCee7EVW"
      },
      "source": [
        "Sesuaikan dengan lokasi data yang Anda punya."
      ]
    },
    {
      "cell_type": "code",
      "execution_count": 2,
      "metadata": {
        "colab": {
          "base_uri": "https://localhost:8080/"
        },
        "id": "Mfp3OdXv7FOk",
        "outputId": "8fbbf29c-eee5-444b-aaca-428d32444831"
      },
      "outputs": [
        {
          "output_type": "stream",
          "name": "stdout",
          "text": [
            "Downloading data from https://storage.googleapis.com/download.tensorflow.org/data/shakespeare.txt\n",
            "1115394/1115394 [==============================] - 0s 0us/step\n"
          ]
        }
      ],
      "source": [
        "path_to_file = tf.keras.utils.get_file('shakespeare.txt', 'https://storage.googleapis.com/download.tensorflow.org/data/shakespeare.txt')"
      ]
    },
    {
      "cell_type": "markdown",
      "metadata": {
        "id": "IM8uv7E07J27"
      },
      "source": [
        "### Load Data"
      ]
    },
    {
      "cell_type": "code",
      "execution_count": 3,
      "metadata": {
        "colab": {
          "base_uri": "https://localhost:8080/"
        },
        "id": "7c-_9T4s7MKO",
        "outputId": "b6413884-4c4f-4a51-b1ee-0692d5dcbe6a"
      },
      "outputs": [
        {
          "output_type": "stream",
          "name": "stdout",
          "text": [
            "Length of text: 1115394 characters\n"
          ]
        }
      ],
      "source": [
        "# Read, then decode for py2 compat.\n",
        "text = open(path_to_file, 'rb').read().decode(encoding='utf-8')\n",
        "# length of text is the number of characters in it\n",
        "print(f'Length of text: {len(text)} characters')"
      ]
    },
    {
      "cell_type": "code",
      "execution_count": 4,
      "metadata": {
        "colab": {
          "base_uri": "https://localhost:8080/"
        },
        "id": "XzTZHYR47PN4",
        "outputId": "ec6b1c5b-a3e5-4173-eb24-c2c6ed4a4338"
      },
      "outputs": [
        {
          "output_type": "stream",
          "name": "stdout",
          "text": [
            "First Citizen:\n",
            "Before we proceed any further, hear me speak.\n",
            "\n",
            "All:\n",
            "Speak, speak.\n",
            "\n",
            "First Citizen:\n",
            "You are all resolved rather to die than to famish?\n",
            "\n",
            "All:\n",
            "Resolved. resolved.\n",
            "\n",
            "First Citizen:\n",
            "First, you know Caius Marcius is chief enemy to the people.\n",
            "\n"
          ]
        }
      ],
      "source": [
        "# Take a look at the first 250 characters in text\n",
        "print(text[:250])"
      ]
    },
    {
      "cell_type": "code",
      "execution_count": 5,
      "metadata": {
        "colab": {
          "base_uri": "https://localhost:8080/"
        },
        "id": "hxYwurzz7Q3A",
        "outputId": "ec8b1140-542e-45bb-d0ba-9bc85565be4c"
      },
      "outputs": [
        {
          "output_type": "stream",
          "name": "stdout",
          "text": [
            "65 unique characters\n"
          ]
        }
      ],
      "source": [
        "# The unique characters in the file\n",
        "vocab = sorted(set(text))\n",
        "print(f'{len(vocab)} unique characters')"
      ]
    },
    {
      "cell_type": "markdown",
      "metadata": {
        "id": "2YoEqFUb7TCJ"
      },
      "source": [
        "## Olah Teks"
      ]
    },
    {
      "cell_type": "markdown",
      "metadata": {
        "id": "96DqN9Aj7WTf"
      },
      "source": [
        "### Vectorize Teks"
      ]
    },
    {
      "cell_type": "markdown",
      "metadata": {
        "id": "cXQsGYNN7Yx-"
      },
      "source": [
        "Sebelum training, Anda perlu mengonversi string menjadi representasi numerik. tf.keras.layers.StringLookup dapat mengubah setiap karakter menjadi ID numerik. Caranya adalah teks akan dipecah menjadi token terlebih dahulu."
      ]
    },
    {
      "cell_type": "code",
      "execution_count": 6,
      "metadata": {
        "colab": {
          "base_uri": "https://localhost:8080/"
        },
        "id": "zdELUJVj7ZfO",
        "outputId": "66984ebf-51b3-4036-89f4-9b5f1c669c76"
      },
      "outputs": [
        {
          "output_type": "execute_result",
          "data": {
            "text/plain": [
              "<tf.RaggedTensor [[b'a', b'b', b'c', b'd', b'e', b'f', b'g'], [b'x', b'y', b'z']]>"
            ]
          },
          "metadata": {},
          "execution_count": 6
        }
      ],
      "source": [
        "example_texts = ['abcdefg', 'xyz']\n",
        "chars = tf.strings.unicode_split(example_texts, input_encoding='UTF-8')\n",
        "chars"
      ]
    },
    {
      "cell_type": "markdown",
      "metadata": {
        "id": "jIwGxfeV7dNg"
      },
      "source": [
        "sekarang buat tf.keras.layers.StringLookup layer:"
      ]
    },
    {
      "cell_type": "code",
      "execution_count": 7,
      "metadata": {
        "id": "Mf5oSu_L7eom"
      },
      "outputs": [],
      "source": [
        "ids_from_chars = tf.keras.layers.StringLookup(\n",
        "vocabulary=list(vocab), mask_token=None)"
      ]
    },
    {
      "cell_type": "markdown",
      "metadata": {
        "id": "W9705eMf7gyI"
      },
      "source": [
        "perintah diatas mengconvert token menjadi id"
      ]
    },
    {
      "cell_type": "code",
      "execution_count": 8,
      "metadata": {
        "colab": {
          "base_uri": "https://localhost:8080/"
        },
        "id": "lalcCQ_i7hku",
        "outputId": "c896c6d5-6a20-4e38-e1fe-c2ea00d1ae8a"
      },
      "outputs": [
        {
          "output_type": "execute_result",
          "data": {
            "text/plain": [
              "<tf.RaggedTensor [[40, 41, 42, 43, 44, 45, 46], [63, 64, 65]]>"
            ]
          },
          "metadata": {},
          "execution_count": 8
        }
      ],
      "source": [
        "ids = ids_from_chars(chars)\n",
        "ids"
      ]
    },
    {
      "cell_type": "markdown",
      "metadata": {
        "id": "4P_EbuAu7lh-"
      },
      "source": [
        "Karena tujuan tutorial ini adalah untuk menghasilkan teks, penting juga untuk membalikkan representasi ini. Untuk ini Anda dapat menggunakan kode tf.keras.layers.StringLookup(..., invert=True).\n",
        "\n",
        "Catatan: pada kode ini, daripada meneruskan kosakata asli yang dihasilkan dengan diurutkan(set(teks)) gunakan metode get_vocabulary() dari tf.keras.layers.StringLookup sehingga token [UNK] disetel dengan cara yang sama."
      ]
    },
    {
      "cell_type": "code",
      "execution_count": 9,
      "metadata": {
        "id": "CJ6pZbnO7mzm"
      },
      "outputs": [],
      "source": [
        "chars_from_ids = tf.keras.layers.StringLookup(\n",
        "    vocabulary=ids_from_chars.get_vocabulary(), invert=True, mask_token=None)"
      ]
    },
    {
      "cell_type": "markdown",
      "metadata": {
        "id": "9UngXYgS7qjG"
      },
      "source": [
        "Lapisan ini mengconvert kembali karakter dari vektor ID, dan mengembalikannya sebagai karakter tf.RaggedTensor:"
      ]
    },
    {
      "cell_type": "code",
      "execution_count": 10,
      "metadata": {
        "colab": {
          "base_uri": "https://localhost:8080/"
        },
        "id": "l6A0wD4g7uxD",
        "outputId": "95d25f23-58de-4cc6-f1c0-e856dc58ac91"
      },
      "outputs": [
        {
          "output_type": "execute_result",
          "data": {
            "text/plain": [
              "<tf.RaggedTensor [[b'a', b'b', b'c', b'd', b'e', b'f', b'g'], [b'x', b'y', b'z']]>"
            ]
          },
          "metadata": {},
          "execution_count": 10
        }
      ],
      "source": [
        "chars = chars_from_ids(ids)\n",
        "chars"
      ]
    },
    {
      "cell_type": "markdown",
      "metadata": {
        "id": "kPFEpuYU7v4o"
      },
      "source": [
        "Anda dapat menggunakan tf.strings.reduce_join untuk menggabungkan kembali karakter menjadi string."
      ]
    },
    {
      "cell_type": "code",
      "execution_count": 11,
      "metadata": {
        "colab": {
          "base_uri": "https://localhost:8080/"
        },
        "id": "ZFHjuqL_7yL6",
        "outputId": "37a23ecb-e3cd-49aa-e8f9-33bc82b153ff"
      },
      "outputs": [
        {
          "output_type": "execute_result",
          "data": {
            "text/plain": [
              "array([b'abcdefg', b'xyz'], dtype=object)"
            ]
          },
          "metadata": {},
          "execution_count": 11
        }
      ],
      "source": [
        "tf.strings.reduce_join(chars, axis=-1).numpy()"
      ]
    },
    {
      "cell_type": "code",
      "execution_count": 12,
      "metadata": {
        "id": "IV-CYKPb7z54"
      },
      "outputs": [],
      "source": [
        "def text_from_ids(ids):\n",
        "    return tf.strings.reduce_join(chars_from_ids(ids), axis=-1)"
      ]
    },
    {
      "cell_type": "markdown",
      "metadata": {
        "id": "gn-AKVXZ7-D8"
      },
      "source": [
        "## Prediksi"
      ]
    },
    {
      "cell_type": "markdown",
      "metadata": {
        "id": "GwEfak8J7_Pu"
      },
      "source": [
        "Diberikan sebuah karakter, atau serangkaian karakter, karakter apa yang paling mungkin berikutnya? Ini adalah tugas yang harus Anda latih agar model dapat melakukannya. Masukan ke model akan berupa urutan karakter, dan Anda melatih model untuk memprediksi keluaran berupa karakter berikut pada setiap langkah waktu. Karena RNN mempertahankan keadaan internal yang bergantung pada elemen yang terlihat sebelumnya, mengingat semua karakter dihitung hingga saat ini, karakter apa selanjutnya?"
      ]
    },
    {
      "cell_type": "markdown",
      "metadata": {
        "id": "XYGnHR0A8B_S"
      },
      "source": [
        "## Membuat Trianing Set dan Target"
      ]
    },
    {
      "cell_type": "markdown",
      "metadata": {
        "id": "Dpc8-KQA8J4G"
      },
      "source": [
        "Selanjutnya bagilah teks menjadi contoh sequence. Setiap masukan sequence akan berisi karakter seq_length dari teks. Untuk setiap masukan sequence, target prediksi berisi teks dengan panjang yang sama, hanya digeser satu karakter ke kanan. Jadi, bagi teks menjadi beberapa bagian seq_length+1. Misalnya, seq_length adalah 4 dan teks kita adalah \"Hello\". Urutan masukannya adalah \"Hell\", dan urutan targetnya adalah \"ello\". Untuk melakukan ini, pertama-tama gunakan fungsi tf.data.Dataset.from_tensor_slices untuk mengonversi vektor teks menjadi aliran indeks karakter."
      ]
    },
    {
      "cell_type": "code",
      "execution_count": 13,
      "metadata": {
        "colab": {
          "base_uri": "https://localhost:8080/"
        },
        "id": "04mnQtda8Mhm",
        "outputId": "7587a990-0f16-4e60-aaad-2e799b140a00"
      },
      "outputs": [
        {
          "output_type": "execute_result",
          "data": {
            "text/plain": [
              "<tf.Tensor: shape=(1115394,), dtype=int64, numpy=array([19, 48, 57, ..., 46,  9,  1])>"
            ]
          },
          "metadata": {},
          "execution_count": 13
        }
      ],
      "source": [
        "all_ids = ids_from_chars(tf.strings.unicode_split(text, 'UTF-8'))\n",
        "all_ids"
      ]
    },
    {
      "cell_type": "code",
      "execution_count": 14,
      "metadata": {
        "id": "-b2GSVf18P9-"
      },
      "outputs": [],
      "source": [
        "ids_dataset = tf.data.Dataset.from_tensor_slices(all_ids)"
      ]
    },
    {
      "cell_type": "code",
      "execution_count": 15,
      "metadata": {
        "colab": {
          "base_uri": "https://localhost:8080/"
        },
        "id": "K6dB4R_38Rme",
        "outputId": "ed50211b-781a-4afe-9700-26f85d60a86f"
      },
      "outputs": [
        {
          "output_type": "stream",
          "name": "stdout",
          "text": [
            "F\n",
            "i\n",
            "r\n",
            "s\n",
            "t\n",
            " \n",
            "C\n",
            "i\n",
            "t\n",
            "i\n"
          ]
        }
      ],
      "source": [
        "for ids in ids_dataset.take(10):\n",
        "    print(chars_from_ids(ids).numpy().decode('utf-8'))"
      ]
    },
    {
      "cell_type": "code",
      "execution_count": 16,
      "metadata": {
        "id": "_aVi-S678TJn"
      },
      "outputs": [],
      "source": [
        "seq_length = 100"
      ]
    },
    {
      "cell_type": "markdown",
      "metadata": {
        "id": "7db6SZRb8VTl"
      },
      "source": [
        "Metode batch memungkinkan Anda dengan mudah mengonversi karakter individual ini menjadi urutan ukuran yang diinginkan."
      ]
    },
    {
      "cell_type": "code",
      "execution_count": 17,
      "metadata": {
        "colab": {
          "base_uri": "https://localhost:8080/"
        },
        "id": "-x56gEvx8WB3",
        "outputId": "92cdd262-55d1-4855-e1a6-ff1a8bde3d3c"
      },
      "outputs": [
        {
          "output_type": "stream",
          "name": "stdout",
          "text": [
            "tf.Tensor(\n",
            "[b'F' b'i' b'r' b's' b't' b' ' b'C' b'i' b't' b'i' b'z' b'e' b'n' b':'\n",
            " b'\\n' b'B' b'e' b'f' b'o' b'r' b'e' b' ' b'w' b'e' b' ' b'p' b'r' b'o'\n",
            " b'c' b'e' b'e' b'd' b' ' b'a' b'n' b'y' b' ' b'f' b'u' b'r' b't' b'h'\n",
            " b'e' b'r' b',' b' ' b'h' b'e' b'a' b'r' b' ' b'm' b'e' b' ' b's' b'p'\n",
            " b'e' b'a' b'k' b'.' b'\\n' b'\\n' b'A' b'l' b'l' b':' b'\\n' b'S' b'p' b'e'\n",
            " b'a' b'k' b',' b' ' b's' b'p' b'e' b'a' b'k' b'.' b'\\n' b'\\n' b'F' b'i'\n",
            " b'r' b's' b't' b' ' b'C' b'i' b't' b'i' b'z' b'e' b'n' b':' b'\\n' b'Y'\n",
            " b'o' b'u' b' '], shape=(101,), dtype=string)\n"
          ]
        }
      ],
      "source": [
        "sequences = ids_dataset.batch(seq_length+1, drop_remainder=True)\n",
        "\n",
        "for seq in sequences.take(1):\n",
        "  print(chars_from_ids(seq))"
      ]
    },
    {
      "cell_type": "markdown",
      "metadata": {
        "id": "P10CQmgo8aH3"
      },
      "source": [
        "akan lebih mudah untuk melihat apa yang dilakukan jika Anda menggabungkan token kembali menjadi string:"
      ]
    },
    {
      "cell_type": "code",
      "execution_count": 18,
      "metadata": {
        "colab": {
          "base_uri": "https://localhost:8080/"
        },
        "id": "66xbwx8H8bP-",
        "outputId": "93564273-7ff7-414f-dc16-5c1757828f17"
      },
      "outputs": [
        {
          "output_type": "stream",
          "name": "stdout",
          "text": [
            "b'First Citizen:\\nBefore we proceed any further, hear me speak.\\n\\nAll:\\nSpeak, speak.\\n\\nFirst Citizen:\\nYou '\n",
            "b'are all resolved rather to die than to famish?\\n\\nAll:\\nResolved. resolved.\\n\\nFirst Citizen:\\nFirst, you k'\n",
            "b\"now Caius Marcius is chief enemy to the people.\\n\\nAll:\\nWe know't, we know't.\\n\\nFirst Citizen:\\nLet us ki\"\n",
            "b\"ll him, and we'll have corn at our own price.\\nIs't a verdict?\\n\\nAll:\\nNo more talking on't; let it be d\"\n",
            "b'one: away, away!\\n\\nSecond Citizen:\\nOne word, good citizens.\\n\\nFirst Citizen:\\nWe are accounted poor citi'\n"
          ]
        }
      ],
      "source": [
        "for seq in sequences.take(5):\n",
        "    print(text_from_ids(seq).numpy())"
      ]
    },
    {
      "cell_type": "markdown",
      "metadata": {
        "id": "vvURNNH78hOL"
      },
      "source": [
        "Untuk pelatihan, Anda memerlukan kumpulan data pasangan (input, label). Dimana input dan label merupakan urutan. Pada setiap langkah waktu, inputnya adalah karakter saat ini dan labelnya adalah karakter berikutnya. Berikut adalah fungsi yang mengambil urutan sebagai masukan, menduplikasi, dan menggesernya untuk menyelaraskan masukan dan label untuk setiap langkah waktu:"
      ]
    },
    {
      "cell_type": "code",
      "execution_count": 19,
      "metadata": {
        "id": "_fkdQuEa8iC2"
      },
      "outputs": [],
      "source": [
        "def split_input_target(sequence):\n",
        "  input_text = sequence[:-1]\n",
        "  target_text = sequence[1:]\n",
        "  return input_text, target_text"
      ]
    },
    {
      "cell_type": "code",
      "execution_count": 20,
      "metadata": {
        "colab": {
          "base_uri": "https://localhost:8080/"
        },
        "id": "Unq-YO3b8kSI",
        "outputId": "c70029ac-d8b7-4a4e-bbfb-ee42c58af6b3"
      },
      "outputs": [
        {
          "output_type": "execute_result",
          "data": {
            "text/plain": [
              "(['T', 'e', 'n', 's', 'o', 'r', 'f', 'l', 'o'],\n",
              " ['e', 'n', 's', 'o', 'r', 'f', 'l', 'o', 'w'])"
            ]
          },
          "metadata": {},
          "execution_count": 20
        }
      ],
      "source": [
        "split_input_target(list(\"Tensorflow\"))"
      ]
    },
    {
      "cell_type": "code",
      "execution_count": 21,
      "metadata": {
        "id": "6zodKOP38meX"
      },
      "outputs": [],
      "source": [
        "dataset = sequences.map(split_input_target)"
      ]
    },
    {
      "cell_type": "code",
      "execution_count": 22,
      "metadata": {
        "colab": {
          "base_uri": "https://localhost:8080/"
        },
        "id": "kTkrg0Be8oHf",
        "outputId": "044feba7-36f6-4561-b520-43688d0858d5"
      },
      "outputs": [
        {
          "output_type": "stream",
          "name": "stdout",
          "text": [
            "Input : b'First Citizen:\\nBefore we proceed any further, hear me speak.\\n\\nAll:\\nSpeak, speak.\\n\\nFirst Citizen:\\nYou'\n",
            "Target: b'irst Citizen:\\nBefore we proceed any further, hear me speak.\\n\\nAll:\\nSpeak, speak.\\n\\nFirst Citizen:\\nYou '\n"
          ]
        }
      ],
      "source": [
        "for input_example, target_example in dataset.take(1):\n",
        "  print(\"Input :\", text_from_ids(input_example).numpy())\n",
        "  print(\"Target:\", text_from_ids(target_example).numpy())"
      ]
    },
    {
      "cell_type": "markdown",
      "metadata": {
        "id": "WJnXZ-Gk8uZv"
      },
      "source": [
        "## Membuat Batch Training"
      ]
    },
    {
      "cell_type": "markdown",
      "metadata": {
        "id": "vp1aPBID8vk9"
      },
      "source": [
        "Anda menggunakan tf.data untuk membagi teks menjadi sequence yang dapat diatur. Namun sebelum memasukkan data ini ke dalam model, Anda perlu mengacak data dan mengemasnya ke dalam batch."
      ]
    },
    {
      "cell_type": "code",
      "execution_count": 23,
      "metadata": {
        "colab": {
          "base_uri": "https://localhost:8080/"
        },
        "id": "9sGvz7nG8y3-",
        "outputId": "076ae603-5da0-4763-81ff-ff21ba3bf42e"
      },
      "outputs": [
        {
          "output_type": "execute_result",
          "data": {
            "text/plain": [
              "<_PrefetchDataset element_spec=(TensorSpec(shape=(64, 100), dtype=tf.int64, name=None), TensorSpec(shape=(64, 100), dtype=tf.int64, name=None))>"
            ]
          },
          "metadata": {},
          "execution_count": 23
        }
      ],
      "source": [
        "# Batch size\n",
        "BATCH_SIZE = 64\n",
        "\n",
        "# Buffer size to shuffle the dataset\n",
        "# (TF data is designed to work with possibly infinite sequences,\n",
        "# so it doesn't attempt to shuffle the entire sequence in memory. Instead,\n",
        "# it maintains a buffer in which it shuffles elements).\n",
        "BUFFER_SIZE = 10000\n",
        "\n",
        "dataset = (\n",
        "    dataset\n",
        "    .shuffle(BUFFER_SIZE)\n",
        "    .batch(BATCH_SIZE, drop_remainder=True)\n",
        "    .prefetch(tf.data.experimental.AUTOTUNE))\n",
        "\n",
        "dataset"
      ]
    },
    {
      "cell_type": "markdown",
      "metadata": {
        "id": "2vMBqMVF8z6Q"
      },
      "source": [
        "## Buat Model"
      ]
    },
    {
      "cell_type": "markdown",
      "metadata": {
        "id": "6_vkdl4E85Zd"
      },
      "source": [
        "Bagian ini mendefinisikan model sebagai subkelas keras.Model (untuk lebih detilnya, lihat Making new Layers and Models via subclassing).\n",
        "\n",
        "Model yang kita bangun memiliki 3 lapisan neural network :\n",
        "\n",
        "tf.keras.layers.Embedding: Lapisan masukan. Tabel pencarian yang dapat dilatih yang akan memetakan setiap karakter-ID ke vektor dengan dimensi embedding_dim;\n",
        "\n",
        "tf.keras.layers.GRU: lapisan RNN dengan ukuran unit=rnn_units (Anda juga dapat menggunakan lapisan LSTM di sini.)\n",
        "\n",
        "tf.keras.layers.Dense: Lapisan keluaran, dengan keluaran vocab_size. Ini menghasilkan satu logit untuk setiap karakter dalam kosakata. Ini adalah log kemungkinan setiap karakter menurut model."
      ]
    },
    {
      "cell_type": "code",
      "execution_count": 24,
      "metadata": {
        "id": "nCKQHyVc9Ib3"
      },
      "outputs": [],
      "source": [
        "# Length of the vocabulary in StringLookup Layer\n",
        "vocab_size = len(ids_from_chars.get_vocabulary())\n",
        "\n",
        "# The embedding dimension\n",
        "embedding_dim = 256\n",
        "\n",
        "# Number of RNN units\n",
        "rnn_units = 1024"
      ]
    },
    {
      "cell_type": "code",
      "execution_count": 25,
      "metadata": {
        "id": "7xwHBbVx9KR9"
      },
      "outputs": [],
      "source": [
        "class MyModel(tf.keras.Model):\n",
        "  def __init__(self, vocab_size, embedding_dim, rnn_units):\n",
        "    super().__init__(self)\n",
        "    self.embedding = tf.keras.layers.Embedding(vocab_size, embedding_dim)\n",
        "    self.gru = tf.keras.layers.GRU(rnn_units,\n",
        "                                   return_sequences=True,\n",
        "                                   return_state=True)\n",
        "    self.dense = tf.keras.layers.Dense(vocab_size)\n",
        "\n",
        "  def call(self, inputs, states=None, return_state=False, training=False):\n",
        "    x = inputs\n",
        "    x = self.embedding(x, training=training)\n",
        "    if states is None:\n",
        "      states = self.gru.get_initial_state(x)\n",
        "    x, states = self.gru(x, initial_state=states, training=training)\n",
        "    x = self.dense(x, training=training)\n",
        "\n",
        "    if return_state:\n",
        "      return x, states\n",
        "    else:\n",
        "      return x"
      ]
    },
    {
      "cell_type": "code",
      "execution_count": 26,
      "metadata": {
        "id": "t9q2Mune9MZg"
      },
      "outputs": [],
      "source": [
        "model = MyModel(\n",
        "    vocab_size=vocab_size,\n",
        "    embedding_dim=embedding_dim,\n",
        "    rnn_units=rnn_units)"
      ]
    },
    {
      "cell_type": "markdown",
      "metadata": {
        "id": "uvwVZSEf9Pod"
      },
      "source": [
        "Untuk setiap karakter, model mencari penyematan, menjalankan GRU satu langkah waktu dengan penyematan sebagai masukan, dan menerapkan dense layer untuk menghasilkan log yang memprediksi kemungkinan log karakter berikutnya:\n",
        "\n",
        "Note: Untuk pelatihan Anda bisa menggunakan model keras.Sequential di sini. Untuk menghasilkan teks nanti, Anda harus mengelola status internal RNN. Akan lebih mudah untuk memasukkan opsi input dan output status di awal, daripada mengatur ulang arsitektur model nanti. untuk detailnya bisa dilihat Keras RNN guide."
      ]
    },
    {
      "cell_type": "markdown",
      "metadata": {
        "id": "Xlo0EKRi9WnI"
      },
      "source": [
        "## Uji Model"
      ]
    },
    {
      "cell_type": "markdown",
      "metadata": {
        "id": "bCwSBVg09ZKS"
      },
      "source": [
        "Coba jalankan model dan cek apakah sidah sesuai dengan output\n",
        "\n",
        "pertama, cek bentuk dari output"
      ]
    },
    {
      "cell_type": "code",
      "execution_count": 27,
      "metadata": {
        "colab": {
          "base_uri": "https://localhost:8080/"
        },
        "id": "Zj7TmYp59Smc",
        "outputId": "c7cb7c5f-90ee-4e36-e31d-064fbb751b8a"
      },
      "outputs": [
        {
          "output_type": "stream",
          "name": "stdout",
          "text": [
            "(64, 100, 66) # (batch_size, sequence_length, vocab_size)\n"
          ]
        }
      ],
      "source": [
        "for input_example_batch, target_example_batch in dataset.take(1):\n",
        "    example_batch_predictions = model(input_example_batch)\n",
        "    print(example_batch_predictions.shape, \"# (batch_size, sequence_length, vocab_size)\")"
      ]
    },
    {
      "cell_type": "markdown",
      "metadata": {
        "id": "Rcy5CwuX9dtH"
      },
      "source": [
        "Dalam contoh di atas, panjang urutan masukan adalah 100 tetapi model dapat dijalankan pada masukan dengan panjang berapa pun:"
      ]
    },
    {
      "cell_type": "code",
      "execution_count": 28,
      "metadata": {
        "colab": {
          "base_uri": "https://localhost:8080/"
        },
        "id": "DKGvSVN29SkP",
        "outputId": "d40148d6-62ad-4931-b4fb-0f69b2e076e7"
      },
      "outputs": [
        {
          "output_type": "stream",
          "name": "stdout",
          "text": [
            "Model: \"my_model\"\n",
            "_________________________________________________________________\n",
            " Layer (type)                Output Shape              Param #   \n",
            "=================================================================\n",
            " embedding (Embedding)       multiple                  16896     \n",
            "                                                                 \n",
            " gru (GRU)                   multiple                  3938304   \n",
            "                                                                 \n",
            " dense (Dense)               multiple                  67650     \n",
            "                                                                 \n",
            "=================================================================\n",
            "Total params: 4022850 (15.35 MB)\n",
            "Trainable params: 4022850 (15.35 MB)\n",
            "Non-trainable params: 0 (0.00 Byte)\n",
            "_________________________________________________________________\n"
          ]
        }
      ],
      "source": [
        "model.summary()"
      ]
    },
    {
      "cell_type": "markdown",
      "metadata": {
        "id": "jIdsd4ej9SOH"
      },
      "source": [
        "Untuk mendapatkan prediksi aktual dari model, Anda perlu mengambil sampel dari distribusi keluaran, untuk mendapatkan indeks karakter aktual. Distribusi ini ditentukan oleh logit pada kosakata karakter. Catatan: Penting untuk mengambil sampel dari distribusi ini karena mengambil argmax dari distribusi tersebut dapat dengan mudah membuat model terjebak dalam infinote loop. Cobalah untuk contoh pertama di batch:"
      ]
    },
    {
      "cell_type": "code",
      "execution_count": 29,
      "metadata": {
        "id": "FjGIOBXo9lRd"
      },
      "outputs": [],
      "source": [
        "sampled_indices = tf.random.categorical(example_batch_predictions[0], num_samples=1)\n",
        "sampled_indices = tf.squeeze(sampled_indices, axis=-1).numpy()"
      ]
    },
    {
      "cell_type": "markdown",
      "metadata": {
        "id": "wmyG30iE9pFA"
      },
      "source": [
        "Hal ini memberi kita, pada setiap langkah waktu, prediksi indeks karakter berikutnya:"
      ]
    },
    {
      "cell_type": "code",
      "execution_count": 30,
      "metadata": {
        "colab": {
          "base_uri": "https://localhost:8080/"
        },
        "id": "fqt6wmcu9pvp",
        "outputId": "261d1983-ab4d-425e-b957-3feeee695a23"
      },
      "outputs": [
        {
          "output_type": "execute_result",
          "data": {
            "text/plain": [
              "array([34,  2, 24, 55, 34, 40, 38, 46, 36, 38, 61, 44, 24, 23, 64, 33, 47,\n",
              "       54, 47, 52, 50, 14, 59, 22, 12, 18, 18,  4, 53, 16, 51, 11, 56, 50,\n",
              "       34, 42, 54, 16,  2,  8, 11,  4,  8, 21, 37,  9, 64, 28, 39, 51, 60,\n",
              "       40, 56, 50, 59,  7, 20, 53, 36, 25, 64, 58, 14,  6,  4, 50, 36, 16,\n",
              "        9, 43, 38, 44,  0,  0, 60, 28, 13, 49, 61, 19, 53,  7, 16, 45, 14,\n",
              "       36, 14,  9, 30, 13,  2,  2, 12, 37, 19, 54, 28, 18,  3, 36])"
            ]
          },
          "metadata": {},
          "execution_count": 30
        }
      ],
      "source": [
        "sampled_indices"
      ]
    },
    {
      "cell_type": "markdown",
      "metadata": {
        "id": "2hrBCvqW9uHY"
      },
      "source": [
        "Dekode kode berikut untuk melihat teks yang diprediksi oleh model tidak terlatih ini:"
      ]
    },
    {
      "cell_type": "code",
      "execution_count": 31,
      "metadata": {
        "colab": {
          "base_uri": "https://localhost:8080/"
        },
        "id": "uTfoivDj9xER",
        "outputId": "04c5a4c8-b93d-4ed6-9f65-d8138892b48f"
      },
      "outputs": [
        {
          "output_type": "stream",
          "name": "stdout",
          "text": [
            "Input:\n",
            " b\"one, why, then I am Tranio;\\nBut in all places else your master Lucentio.\\n\\nLUCENTIO:\\nTranio, let's go\"\n",
            "\n",
            "Next Char Predictions:\n",
            " b\"U KpUaYgWYveKJyThohmkAtI;EE$nCl:qkUcoC -:$-HX.yOZluaqkt,GnWLysA'$kWC.dYe[UNK][UNK]uO?jvFn,CfAWA.Q?  ;XFoOE!W\"\n"
          ]
        }
      ],
      "source": [
        "print(\"Input:\\n\", text_from_ids(input_example_batch[0]).numpy())\n",
        "print()\n",
        "print(\"Next Char Predictions:\\n\", text_from_ids(sampled_indices).numpy())"
      ]
    },
    {
      "cell_type": "markdown",
      "metadata": {
        "id": "tkA7duwy90qC"
      },
      "source": [
        "## Train Model"
      ]
    },
    {
      "cell_type": "markdown",
      "metadata": {
        "id": "uiohmqY393Qg"
      },
      "source": [
        "Pada titik ini permasalahan dapat dianggap sebagai permasalahan klasifikasi standar. Permasalahan dapat disimpulkan dengan : Berdasarkan status RNN sebelumnya, dan masukan langkah kali ini, prediksi kelas karakter berikutnya."
      ]
    },
    {
      "cell_type": "markdown",
      "metadata": {
        "id": "OKU2ArUg97CV"
      },
      "source": [
        "### Tambahan optimizer dan fungsi loss"
      ]
    },
    {
      "cell_type": "markdown",
      "metadata": {
        "id": "-HV6xmQa9_cF"
      },
      "source": [
        "loss function tf.keras.losses.sparse_categorical_crossentropy standar berfungsi dalam kasus ini karena diterapkan di seluruh dimensi terakhir prediksi. Karena model Anda mengembalikan logits, Anda perlu mengatur flag from_logits."
      ]
    },
    {
      "cell_type": "code",
      "execution_count": 32,
      "metadata": {
        "id": "B50bT41G-Am0"
      },
      "outputs": [],
      "source": [
        "loss = tf.losses.SparseCategoricalCrossentropy(from_logits=True)"
      ]
    },
    {
      "cell_type": "code",
      "execution_count": 33,
      "metadata": {
        "colab": {
          "base_uri": "https://localhost:8080/"
        },
        "id": "yTQQdlYs-CqM",
        "outputId": "7be04a39-8917-4ac7-ba9b-4cfbcd1ea646"
      },
      "outputs": [
        {
          "output_type": "stream",
          "name": "stdout",
          "text": [
            "Prediction shape:  (64, 100, 66)  # (batch_size, sequence_length, vocab_size)\n",
            "Mean loss:         tf.Tensor(4.1892223, shape=(), dtype=float32)\n"
          ]
        }
      ],
      "source": [
        "example_batch_mean_loss = loss(target_example_batch, example_batch_predictions)\n",
        "print(\"Prediction shape: \", example_batch_predictions.shape, \" # (batch_size, sequence_length, vocab_size)\")\n",
        "print(\"Mean loss:        \", example_batch_mean_loss)"
      ]
    },
    {
      "cell_type": "markdown",
      "metadata": {
        "id": "fSPrT9pg-GK_"
      },
      "source": [
        "Model yang baru diinisialisasi tidak boleh terlalu yakin dengan dirinya sendiri, semua log keluaran harus memiliki besaran yang sama. Untuk mengonfirmasi hal ini, Anda dapat memeriksa bahwa eksponensial dari loss rata-rata harus kira-kira sama dengan ukuran kosakata. Loss yang jauh lebih tinggi berarti model tersebut yakin akan jawaban yang salah, dan memiliki inisialisasi yang buruk:"
      ]
    },
    {
      "cell_type": "code",
      "execution_count": 34,
      "metadata": {
        "colab": {
          "base_uri": "https://localhost:8080/"
        },
        "id": "toX6lXbk-GAe",
        "outputId": "b1ff1e6c-df99-43a9-9b69-6a1179134c43"
      },
      "outputs": [
        {
          "output_type": "execute_result",
          "data": {
            "text/plain": [
              "65.971466"
            ]
          },
          "metadata": {},
          "execution_count": 34
        }
      ],
      "source": [
        "tf.exp(example_batch_mean_loss).numpy()"
      ]
    },
    {
      "cell_type": "markdown",
      "metadata": {
        "id": "oc8EHI8i-Jd1"
      },
      "source": [
        "Konfigurasikan prosedur pelatihan menggunakan metode tf.keras.Model.compile. Gunakan tf.keras.optimizers.Adam dengan argumen default dan fungsi loss."
      ]
    },
    {
      "cell_type": "code",
      "execution_count": 35,
      "metadata": {
        "id": "7khmMcy7-MSN"
      },
      "outputs": [],
      "source": [
        "model.compile(optimizer='adam', loss=loss)"
      ]
    },
    {
      "cell_type": "markdown",
      "metadata": {
        "id": "MNsKxN91-Piv"
      },
      "source": [
        "## Konfigurasi Checkpoints"
      ]
    },
    {
      "cell_type": "markdown",
      "metadata": {
        "id": "912ajgWo-Ukc"
      },
      "source": [
        "Gunakan tf.keras.callbacks.ModelCheckpoint untuk memastikan bahwa checkpoint disimpan selama pelatihan:"
      ]
    },
    {
      "cell_type": "code",
      "execution_count": 36,
      "metadata": {
        "id": "9NVbO_HJ-WAl"
      },
      "outputs": [],
      "source": [
        "# Directory where the checkpoints will be saved\n",
        "checkpoint_dir = './training_checkpoints'\n",
        "# Name of the checkpoint files\n",
        "checkpoint_prefix = os.path.join(checkpoint_dir, \"ckpt_{epoch}\")\n",
        "\n",
        "checkpoint_callback = tf.keras.callbacks.ModelCheckpoint(\n",
        "    filepath=checkpoint_prefix,\n",
        "    save_weights_only=True)"
      ]
    },
    {
      "cell_type": "markdown",
      "metadata": {
        "id": "BPpnihna-Y77"
      },
      "source": [
        "## Lakukan Proses Training"
      ]
    },
    {
      "cell_type": "markdown",
      "metadata": {
        "id": "-ziOG7dt-cAy"
      },
      "source": [
        "Agar waktu pelatihan tidak terlalu lama, gunakan 10 epoch untuk melatih model. Di Colab, setel runtime ke GPU untuk pelatihan yang lebih cepat."
      ]
    },
    {
      "cell_type": "code",
      "execution_count": 37,
      "metadata": {
        "id": "_DNoY2an-ctk"
      },
      "outputs": [],
      "source": [
        "EPOCHS = 20"
      ]
    },
    {
      "cell_type": "code",
      "execution_count": 38,
      "metadata": {
        "colab": {
          "base_uri": "https://localhost:8080/"
        },
        "id": "4pHY6pNj-fWm",
        "outputId": "4e2e2d4c-20bd-4ffe-df4e-8258cdbcd3a0"
      },
      "outputs": [
        {
          "output_type": "stream",
          "name": "stdout",
          "text": [
            "Epoch 1/20\n",
            "172/172 [==============================] - 721s 4s/step - loss: 2.6992\n",
            "Epoch 2/20\n",
            "172/172 [==============================] - 716s 4s/step - loss: 1.9795\n",
            "Epoch 3/20\n",
            "172/172 [==============================] - 729s 4s/step - loss: 1.6973\n",
            "Epoch 4/20\n",
            "172/172 [==============================] - 719s 4s/step - loss: 1.5378\n",
            "Epoch 5/20\n",
            "172/172 [==============================] - 719s 4s/step - loss: 1.4411\n",
            "Epoch 6/20\n",
            "172/172 [==============================] - 722s 4s/step - loss: 1.3734\n",
            "Epoch 7/20\n",
            "172/172 [==============================] - 715s 4s/step - loss: 1.3212\n",
            "Epoch 8/20\n",
            "172/172 [==============================] - 714s 4s/step - loss: 1.2777\n",
            "Epoch 9/20\n",
            "172/172 [==============================] - 715s 4s/step - loss: 1.2357\n",
            "Epoch 10/20\n",
            "172/172 [==============================] - 719s 4s/step - loss: 1.1963\n",
            "Epoch 11/20\n",
            "172/172 [==============================] - 722s 4s/step - loss: 1.1557\n",
            "Epoch 12/20\n",
            "172/172 [==============================] - 723s 4s/step - loss: 1.1146\n",
            "Epoch 13/20\n",
            "172/172 [==============================] - 738s 4s/step - loss: 1.0710\n",
            "Epoch 14/20\n",
            "172/172 [==============================] - 722s 4s/step - loss: 1.0247\n",
            "Epoch 15/20\n",
            "172/172 [==============================] - 721s 4s/step - loss: 0.9759\n",
            "Epoch 16/20\n",
            "172/172 [==============================] - 717s 4s/step - loss: 0.9249\n",
            "Epoch 17/20\n",
            "172/172 [==============================] - 717s 4s/step - loss: 0.8732\n",
            "Epoch 18/20\n",
            "172/172 [==============================] - 714s 4s/step - loss: 0.8216\n",
            "Epoch 19/20\n",
            "172/172 [==============================] - 716s 4s/step - loss: 0.7694\n",
            "Epoch 20/20\n",
            "172/172 [==============================] - 716s 4s/step - loss: 0.7224\n"
          ]
        }
      ],
      "source": [
        "history = model.fit(dataset, epochs=EPOCHS, callbacks=[checkpoint_callback])"
      ]
    },
    {
      "cell_type": "markdown",
      "metadata": {
        "id": "qHTbsMiW-hoe"
      },
      "source": [
        "## Generate Teks"
      ]
    },
    {
      "cell_type": "markdown",
      "metadata": {
        "id": "GD0yS09N-lQU"
      },
      "source": [
        "Cara termudah untuk menghasilkan teks dengan model ini adalah dengan menjalankannya dalam loop, dan menyimpan status internal model saat Anda menjalankannya.\n",
        "\n",
        "Setiap kali Anda memanggil model, Anda memasukkan beberapa teks dan state internal. Model mengembalikan prediksi untuk karakter berikutnya dan state barunya. Masukkan kembali prediksi dan state ke model untuk terus menghasilkan teks.\n",
        "\n",
        "Berikut ini membuat prediksi satu langkah:"
      ]
    },
    {
      "cell_type": "code",
      "execution_count": 39,
      "metadata": {
        "id": "VudDwD6B-zU-"
      },
      "outputs": [],
      "source": [
        "class OneStep(tf.keras.Model):\n",
        "  def __init__(self, model, chars_from_ids, ids_from_chars, temperature=1.0):\n",
        "    super().__init__()\n",
        "    self.temperature = temperature\n",
        "    self.model = model\n",
        "    self.chars_from_ids = chars_from_ids\n",
        "    self.ids_from_chars = ids_from_chars\n",
        "\n",
        "    # Create a mask to prevent \"[UNK]\" from being generated.\n",
        "    skip_ids = self.ids_from_chars(['[UNK]'])[:, None]\n",
        "    sparse_mask = tf.SparseTensor(\n",
        "        # Put a -inf at each bad index.\n",
        "        values=[-float('inf')]*len(skip_ids),\n",
        "        indices=skip_ids,\n",
        "        # Match the shape to the vocabulary\n",
        "        dense_shape=[len(ids_from_chars.get_vocabulary())])\n",
        "    self.prediction_mask = tf.sparse.to_dense(sparse_mask)\n",
        "\n",
        "  @tf.function\n",
        "  def generate_one_step(self, inputs, states=None):\n",
        "    # Convert strings to token IDs.\n",
        "    input_chars = tf.strings.unicode_split(inputs, 'UTF-8')\n",
        "    input_ids = self.ids_from_chars(input_chars).to_tensor()\n",
        "\n",
        "    # Run the model.\n",
        "    # predicted_logits.shape is [batch, char, next_char_logits]\n",
        "    predicted_logits, states = self.model(inputs=input_ids, states=states,\n",
        "                                          return_state=True)\n",
        "    # Only use the last prediction.\n",
        "    predicted_logits = predicted_logits[:, -1, :]\n",
        "    predicted_logits = predicted_logits/self.temperature\n",
        "    # Apply the prediction mask: prevent \"[UNK]\" from being generated.\n",
        "    predicted_logits = predicted_logits + self.prediction_mask\n",
        "\n",
        "    # Sample the output logits to generate token IDs.\n",
        "    predicted_ids = tf.random.categorical(predicted_logits, num_samples=1)\n",
        "    predicted_ids = tf.squeeze(predicted_ids, axis=-1)\n",
        "\n",
        "    # Convert from token ids to characters\n",
        "    predicted_chars = self.chars_from_ids(predicted_ids)\n",
        "\n",
        "    # Return the characters and model state.\n",
        "    return predicted_chars, states"
      ]
    },
    {
      "cell_type": "code",
      "execution_count": 40,
      "metadata": {
        "id": "aUwERaKO-1h0"
      },
      "outputs": [],
      "source": [
        "one_step_model = OneStep(model, chars_from_ids, ids_from_chars)"
      ]
    },
    {
      "cell_type": "markdown",
      "metadata": {
        "id": "WPm0qnUp-5JZ"
      },
      "source": [
        "Jalankan secara berulang untuk menghasilkan beberapa teks. Melihat teks yang dihasilkan, Anda akan melihat model mengetahui kapan harus menggunakan huruf besar, membuat paragraf, dan meniru kosakata menulis seperti Shakespeare. Karena sedikitnya jumlah epoch pelatihan, model belum belajar membentuk kalimat runtut."
      ]
    },
    {
      "cell_type": "code",
      "execution_count": 43,
      "metadata": {
        "id": "_W73gMPa-6vr",
        "colab": {
          "base_uri": "https://localhost:8080/"
        },
        "outputId": "5c7827e5-61a4-461b-f12d-88631a18273f"
      },
      "outputs": [
        {
          "output_type": "stream",
          "name": "stdout",
          "text": [
            "ROMEO:\n",
            "'Tis something good for beauty scarn'd as to fly true\n",
            "And dangerous supposed. Heaven being comarly\n",
            "Hath hedded his fortune with your sightion:\n",
            "Which, I have been unlike another Tybalt.\n",
            "\n",
            "ROMEO:\n",
            "This cold and loathsome he remained starks and dry.\n",
            "My husband hath me to cut off all springst,\n",
            "As brief as she is fall'n than he abjects by\n",
            "him to in us rise, seeing and have to 't.\n",
            "\n",
            "PETRUCHIO:\n",
            "It would not standeth home,\n",
            "For how hast thou beheld consent to be\n",
            "The slave of Frunce, some took at heaven,\n",
            "Wert thou to lose her to the Tower.\n",
            "\n",
            "HENRY BOLINGBROKE:\n",
            "I perish mine own design. He that is more\n",
            "will to the end that often fear'd and dangerous;\n",
            "The vantage is shut; there will to kert it for his\n",
            "earth.\n",
            "\n",
            "MARIANA:\n",
            "My cobstan your haughty!\n",
            "\n",
            "RICHARD:\n",
            "I beseech you up, i' Gound; and lies the sea\n",
            "Where though 'twas Coriolanus.\n",
            "\n",
            "HORTENSIO:\n",
            "Tarry, Merelius, Chieford, did common thus to beat,\n",
            "If both a rander on't! Our lady wash'd\n",
            "With profanation night; then lies the hearts of war\n",
            "Against the which to  \n",
            "\n",
            "________________________________________________________________________________\n",
            "\n",
            "Run time: 1.6139421463012695\n"
          ]
        }
      ],
      "source": [
        "start = time.time()\n",
        "states = None\n",
        "next_char = tf.constant(['ROMEO:'])\n",
        "result = [next_char]\n",
        "\n",
        "for n in range(1000):\n",
        "  next_char, states = one_step_model.generate_one_step(next_char, states=states)\n",
        "  result.append(next_char)\n",
        "\n",
        "result = tf.strings.join(result)\n",
        "end = time.time()\n",
        "print(result[0].numpy().decode('utf-8'), '\\n\\n' + '_'*80)\n",
        "print('\\nRun time:', end - start)"
      ]
    },
    {
      "cell_type": "markdown",
      "metadata": {
        "id": "zhJ5FgzD-9nL"
      },
      "source": [
        "Hal termudah yang dapat Anda lakukan untuk meningkatkan hasil adalah dengan melatihnya lebih lama (coba EPOCHS = 30). Anda juga dapat bereksperimen dengan string awal yang berbeda, mencoba menambahkan lapisan RNN lain untuk meningkatkan akurasi model, atau menyesuaikan parameter suhu untuk menghasilkan prediksi yang kurang lebih acak.\n",
        "\n",
        "Jika Anda ingin model menghasilkan teks lebih cepat, hal termudah yang dapat Anda lakukan adalah membuat teks secara batch. Pada contoh di bawah, model menghasilkan 5 keluaran dalam waktu yang hampir sama dengan waktu yang dibutuhkan untuk menghasilkan 1 keluaran di atas."
      ]
    },
    {
      "cell_type": "code",
      "execution_count": 44,
      "metadata": {
        "id": "ENOpXd5M-_rz",
        "colab": {
          "base_uri": "https://localhost:8080/"
        },
        "outputId": "43a9cb1b-d703-42f6-8c1d-3734f75f170c"
      },
      "outputs": [
        {
          "output_type": "stream",
          "name": "stdout",
          "text": [
            "tf.Tensor(\n",
            "[b\"ROMEO:\\nGood Marcius, Marcius was he done?\\nFor hide, for all your brother, here will the year of Your\\nflable doth daints his pirch of meface.\\nBeseech you, sir, to London will the kense but\\nYet, in for offences, seldom spoes,\\nWill upon him, and tender you our tent;\\nYour leave was he each other, his throne:\\nBleeding him to ruime forsook, so dear me from me.\\n\\nKING RICHADD II:\\nYea, nurse; the king's pow upon the stroke was in death\\nI took upon thee this day will if they\\ncome from thee, for 'twere he now, and, in work, came here,\\nWho all east say 'It. Sister, think it you\\nDid never yet upon the heavy mildnes's.\\n\\nNurse:\\nNay, but hear me speak forthwart you.\\n\\nKING RICHARD III:\\nYoung Romeo, borth, the Lord Aubrey half,\\nBut this bad fault as you did, be both.\\n\\nPOLIXENES:\\nWhat is the prince my soul is very talk, and\\nsign's felong of your answer.\\nThese frowning wings of heaven and dress'd!\\n\\nJULIET:\\nWhat do out of this? Come, but what's the news wrong'd,\\nThe mane shall deser'd than they would die?\\nYou'ld\"\n",
            " b\"ROMEO:\\nThe better for it! Come, entertain it.\\n\\nDUKE VINCENTIO:\\nHow do you frown? O, but will I furd for us.\\nTheir power is prayers are in arms, both your children,\\nAnd me in batter and your father's hounds:\\nBrave Rome, enough.\\nWill I lose thee, thy head for senators.\\n\\nKATHARINA:\\nThe moon!\\n\\nFirst Conspirator:\\nYou see how heaven it shall is all the busibes\\nThat both present peace and past; Richard comes could Jucius\\nA perse to beg this people:\\nOf sorrow cruel trembles up the worthy office,\\nTo use your brothers both.\\n\\nGaol:\\nInchardy, as sweet Margaret; Minolo,\\nThe main blam old mother old mother's!\\nChave I first to tell a locks here at your followeds\\nMercity as you can but saw them;\\nMaster may I call you from the world's roof.\\nNot sit alrowed in the Tower.\\n\\nESCALUS:\\nIf you could run forth, your honour is a letter for me?\\nWell, that, lives, that, to this penalty Was inform'd\\nOur revenutue enough by great all in Padua;\\nIf not of Lancaster!\\n\\nFirst Officer:\\nIndeed, have you will not, that comes two\"\n",
            " b\"ROMEO:\\nBy Plivy to go to bed, I will serve you.\\nWhere's Bohemia's name; cherish an as as lie as they\\ncannot linger but a bustach last, something roar\\nUnto the whole anconsive deep:\\nLook quoth, it shall dishing before me.\\n\\nCATESBY:\\nMany good going entertainment\\nI do drive forget not in our humility.\\n\\nQUEEN MARGARET:\\nGo, some other birth\\nI show myself a man; and, more, a marblike thanks.\\n\\nSecond Murderer:\\nLook, alas! You'll be safest.' And so, I pray you, sir, but\\nOur brother but thought the Barnardine's banishment:\\nIf yet my father lately call'd thee to this extremes?\\n\\nKING RICHARD III:\\nYou shame, they were, so far that sayst thou fear, the name of kings\\nHath promised to merril more jouble jeroses;\\nAnd to our part use is full too business,\\nFor most he were a more more tearing to\\nA gentleman; keep your wife, you're none;\\nI'll play the world thereon begg'd for Rome,'s swallowing labour\\nWhen he hath now her for consolves here,\\nToo fawn an opportious angry you ow\\nTo see him: 'ay, I have a king, t\"\n",
            " b\"ROMEO:\\nCome, come, we stop the action of your general:\\nO, would Ke dance, to save the rest.\\n\\nDUKE OF YORK:\\nGive me thy slaughter'd juty conceives you\\nOf your old arms o' the earth of sighs;\\nBut show the swower must be crown'd would\\nCursed to took me only before your grace.\\n\\nFirst Of Claudio\\nAs little fire enough to take the way\\nThat ever enter'd in all thy oath?\\nA curse die no within, sir, 'tis thought of it:\\nOne word, your queen--whom I must help it,--\\nAs in a tent to talk with your answer.\\nTurrey love hast thou this song up to the dead.\\n\\nCAPULET:\\nPeace be done, and an openlay:\\nto rosematy langed both to be a profane,\\nNot to the downfil of your own report.\\n\\nWARWICK:\\nAlaught to death. A vicerard, that joy\\nFrom cloudy plant but this; will's currigs, gaunt\\nThe strong'st honour'd friends that keeps directed\\nHe admired my account, but baint enforced!\\nWould I get year and my mother,\\nYour came interrope to each death:\\nHad I thy counsel, thou to think!\\n\\nPETRUCHIO:\\nOccupartly grace to look and actio\"\n",
            " b\"ROMEO:\\nThere's no owe thee:\\nHold your mistress Buckingham and relieved\\nBy his courtesy, sir, by strangers, and his fortunes\\nAbout her lord, that made the fray hath made my head\\nAnd fit upon his hopes that work'd for 'truck the world\\nBe singly in lost; they say, 'twas point,\\nLike follies to the fure of office land together:\\nTake heed, that, lady, thou vast possible.\\n\\nGLOUCESTER:\\nPrithee, be quitt when thou dost give me so, he doth but\\nYour father cannot bursch thee for a high afford.\\nWhat say'st thou? speak thou command: play, be content.\\nI would my plaints would make you govern,\\nFor that we both part of your cates and did thou comest.\\n\\nKING RICHARD III:\\nYet reign as York, of what comfort haves the smoding stars,\\nAnd makes her children here, sit forth to early\\nA man alive to my dumb bals,\\nInfoneat come to clove this caunds before\\nHis state to make his grief.\\n\\nSEBASTIAN:\\nYou will not marry her.\\n\\nPETRUCHIO:\\nUpon my slave,--\\n\\nSICINIUS:\\nAs I supposed\\nA special giveness. my sad stirs amongst\\nTo th\"], shape=(5,), dtype=string) \n",
            "\n",
            "________________________________________________________________________________\n",
            "\n",
            "Run time: 3.8440001010894775\n"
          ]
        }
      ],
      "source": [
        "start = time.time()\n",
        "states = None\n",
        "next_char = tf.constant(['ROMEO:', 'ROMEO:', 'ROMEO:', 'ROMEO:', 'ROMEO:'])\n",
        "result = [next_char]\n",
        "\n",
        "for n in range(1000):\n",
        "  next_char, states = one_step_model.generate_one_step(next_char, states=states)\n",
        "  result.append(next_char)\n",
        "\n",
        "result = tf.strings.join(result)\n",
        "end = time.time()\n",
        "print(result, '\\n\\n' + '_'*80)\n",
        "print('\\nRun time:', end - start)"
      ]
    },
    {
      "cell_type": "markdown",
      "metadata": {
        "id": "VFGSI66j_Bwj"
      },
      "source": [
        "## Ekspor Model Generator"
      ]
    },
    {
      "cell_type": "markdown",
      "metadata": {
        "id": "B50QJSQR_E5Y"
      },
      "source": [
        "Model satu langkah ini dapat dengan mudah disimpan dan digunakan kembali, memungkinkan Anda menggunakannya di mana pun tf.saved_model diterima"
      ]
    },
    {
      "cell_type": "code",
      "execution_count": 45,
      "metadata": {
        "id": "xv1cBDcT_GXU",
        "colab": {
          "base_uri": "https://localhost:8080/"
        },
        "outputId": "392226ee-b3b0-4a89-9a9e-d479f1c8d76a"
      },
      "outputs": [
        {
          "output_type": "stream",
          "name": "stderr",
          "text": [
            "WARNING:tensorflow:Skipping full serialization of Keras layer <__main__.OneStep object at 0x7bd5ad02b550>, because it is not built.\n",
            "WARNING:tensorflow:Model's `__init__()` arguments contain non-serializable objects. Please implement a `get_config()` method in the subclassed Model for proper saving and loading. Defaulting to empty config.\n",
            "WARNING:tensorflow:Model's `__init__()` arguments contain non-serializable objects. Please implement a `get_config()` method in the subclassed Model for proper saving and loading. Defaulting to empty config.\n"
          ]
        }
      ],
      "source": [
        "tf.saved_model.save(one_step_model, 'one_step')\n",
        "one_step_reloaded = tf.saved_model.load('one_step')"
      ]
    },
    {
      "cell_type": "code",
      "execution_count": 46,
      "metadata": {
        "id": "J_qGWJoD_ID0",
        "colab": {
          "base_uri": "https://localhost:8080/"
        },
        "outputId": "4fe16e32-3efc-4ef1-a67e-635c6187c6e2"
      },
      "outputs": [
        {
          "output_type": "stream",
          "name": "stdout",
          "text": [
            "ROMEO:\n",
            "My take it doth not speak for it in present boy;\n",
            "And beat determine on thee, love, of Buckingham!\n",
            "O\n"
          ]
        }
      ],
      "source": [
        "states = None\n",
        "next_char = tf.constant(['ROMEO:'])\n",
        "result = [next_char]\n",
        "\n",
        "for n in range(100):\n",
        "  next_char, states = one_step_reloaded.generate_one_step(next_char, states=states)\n",
        "  result.append(next_char)\n",
        "\n",
        "print(tf.strings.join(result)[0].numpy().decode(\"utf-8\"))"
      ]
    },
    {
      "cell_type": "markdown",
      "metadata": {
        "id": "Nvi-AlKj_PD8"
      },
      "source": [
        "# Tugas"
      ]
    },
    {
      "cell_type": "markdown",
      "metadata": {
        "id": "GvI6XS0N_Qos"
      },
      "source": [
        "Prosedur pelatihan pada praktikum 2 merupakan prosedur sederhana, yang tidak memberi Anda banyak kendali. Model ini menggunakan \"teacher-forcing\" yang mencegah prediksi buruk diumpankan kembali ke model, sehingga model tidak pernah belajar untuk pulih dari kesalahan. Jadi, setelah Anda melihat cara menjalankan model secara manual, selanjutnya Anda akan mengimplementasikan custom loop pelatihan. Hal ini memberikan titik awal jika, misalnya, Anda ingin menerapkan pembelajaran kurikulum untuk membantu menstabilkan keluaran open-loop model. Bagian terpenting dari loop pelatihan khusus adalah fungsi langkah pelatihan.\n",
        "\n",
        "Gunakan tf.GradientTape untuk men track nilai gradient. Anda dapat mempelajari lebih lanjut tentang pendekatan ini dengan membaca eager execution guide.\n",
        "Prosedurnya adalah \"\n",
        "\n",
        "1. Jalankan Model dan hitung loss dengan tf.GradientTape.\n",
        "\n",
        "2. Hitung update dan terapkan pada model dengan optimizer"
      ]
    },
    {
      "cell_type": "code",
      "execution_count": 47,
      "metadata": {
        "id": "ZW8AGjtC_Zb8"
      },
      "outputs": [],
      "source": [
        "class CustomTraining(MyModel):\n",
        "  @tf.function\n",
        "  def train_step(self, inputs):\n",
        "    inputs, labels = inputs\n",
        "    with tf.GradientTape() as tape:\n",
        "      predictions = self(inputs, training=True)\n",
        "      loss = self.loss(labels, predictions)\n",
        "      grads = tape.gradient(loss, model.trainable_variables)\n",
        "      self.optimizer.apply_gradients(zip(grads, model.trainable_variables))\n",
        "\n",
        "      return {'loss': loss}"
      ]
    },
    {
      "cell_type": "markdown",
      "metadata": {
        "id": "TJRihm2Y_cEe"
      },
      "source": [
        "Kode diatas menerapkan train_step method sesuai dengan  Keras' train_step conventions. Ini opsional, tetapi memungkinkan Anda mengubah perilaku langkah pelatihan dan tetap menggunakan keras Model.compile and Model.fit methods."
      ]
    },
    {
      "cell_type": "code",
      "execution_count": 48,
      "metadata": {
        "id": "1ferzSYf_drE"
      },
      "outputs": [],
      "source": [
        "model = CustomTraining(\n",
        "    vocab_size=len(ids_from_chars.get_vocabulary()),\n",
        "    embedding_dim=embedding_dim,\n",
        "    rnn_units=rnn_units)"
      ]
    },
    {
      "cell_type": "code",
      "execution_count": 49,
      "metadata": {
        "id": "rzJCXtK0_fe2"
      },
      "outputs": [],
      "source": [
        "model.compile(optimizer = tf.keras.optimizers.Adam(),\n",
        "              loss=tf.keras.losses.SparseCategoricalCrossentropy(from_logits=True))"
      ]
    },
    {
      "cell_type": "code",
      "execution_count": 50,
      "metadata": {
        "id": "C8TPE05a_g7v",
        "colab": {
          "base_uri": "https://localhost:8080/"
        },
        "outputId": "e0701490-c507-40f7-fd0b-d1c1eb9d0ab2"
      },
      "outputs": [
        {
          "output_type": "stream",
          "name": "stdout",
          "text": [
            "172/172 [==============================] - 726s 4s/step - loss: 2.7040\n"
          ]
        },
        {
          "output_type": "execute_result",
          "data": {
            "text/plain": [
              "<keras.src.callbacks.History at 0x7bd59eca2d10>"
            ]
          },
          "metadata": {},
          "execution_count": 50
        }
      ],
      "source": [
        "model.fit(dataset, epochs=1)"
      ]
    },
    {
      "cell_type": "markdown",
      "metadata": {
        "id": "AwpRNs8U_jYH"
      },
      "source": [
        "Atau jika ingin lebih mengetahui dalamnya, kita bisa membuat custom training loop sendiri:"
      ]
    },
    {
      "cell_type": "code",
      "source": [
        "import time\n",
        "import tensorflow as tf\n",
        "\n",
        "EPOCHS = 10\n",
        "\n",
        "mean = tf.metrics.Mean()\n",
        "\n",
        "for epoch in range(EPOCHS):\n",
        "    start = time.time()\n",
        "\n",
        "    mean.reset_states()\n",
        "    for batch_n, (inp, target) in enumerate(dataset):\n",
        "        # Ensure `inp` and `target` are appropriately formatted, e.g., as a tuple or list\n",
        "        logs = model.train_step([inp, target])  # Or model.train_step((inp, target))\n",
        "        mean.update_state(logs['loss'])\n",
        "\n",
        "        if batch_n % 50 == 0:\n",
        "            template = f\"Epoch {epoch+1} Batch {batch_n} Loss {logs['loss']:.4f}\"\n",
        "            print(template)\n",
        "\n",
        "    # Saving (checkpoint) the model every 5 epochs\n",
        "    if (epoch + 1) % 5 == 0:\n",
        "        model.save_weights(checkpoint_prefix.format(epoch=epoch))\n",
        "\n",
        "    print()\n",
        "    print(f'Epoch {epoch+1} Loss: {mean.result().numpy():.4f}')\n",
        "    print(f'Time taken for 1 epoch {time.time() - start:.2f} sec')\n",
        "    print(\"_\" * 80)\n",
        "\n",
        "model.save_weights(checkpoint_prefix.format(epoch=epoch))"
      ],
      "metadata": {
        "colab": {
          "base_uri": "https://localhost:8080/"
        },
        "id": "8cei4YLWz3rl",
        "outputId": "09010e51-02c7-409d-819f-0d9b538e962f"
      },
      "execution_count": 53,
      "outputs": [
        {
          "output_type": "stream",
          "name": "stdout",
          "text": [
            "Epoch 1 Batch 0 Loss 1.3228\n",
            "Epoch 1 Batch 50 Loss 1.2870\n",
            "Epoch 1 Batch 100 Loss 1.2803\n",
            "Epoch 1 Batch 150 Loss 1.3577\n",
            "\n",
            "Epoch 1 Loss: 1.3287\n",
            "Time taken for 1 epoch 725.25 sec\n",
            "________________________________________________________________________________\n",
            "Epoch 2 Batch 0 Loss 1.2685\n",
            "Epoch 2 Batch 50 Loss 1.2615\n",
            "Epoch 2 Batch 100 Loss 1.2647\n",
            "Epoch 2 Batch 150 Loss 1.2993\n",
            "\n",
            "Epoch 2 Loss: 1.2829\n",
            "Time taken for 1 epoch 722.56 sec\n",
            "________________________________________________________________________________\n",
            "Epoch 3 Batch 0 Loss 1.2142\n",
            "Epoch 3 Batch 50 Loss 1.2291\n",
            "Epoch 3 Batch 100 Loss 1.2234\n",
            "Epoch 3 Batch 150 Loss 1.2233\n",
            "\n",
            "Epoch 3 Loss: 1.2411\n",
            "Time taken for 1 epoch 724.04 sec\n",
            "________________________________________________________________________________\n",
            "Epoch 4 Batch 0 Loss 1.1782\n",
            "Epoch 4 Batch 50 Loss 1.1828\n",
            "Epoch 4 Batch 100 Loss 1.2545\n",
            "Epoch 4 Batch 150 Loss 1.2312\n",
            "\n",
            "Epoch 4 Loss: 1.2008\n",
            "Time taken for 1 epoch 722.17 sec\n",
            "________________________________________________________________________________\n",
            "Epoch 5 Batch 0 Loss 1.1195\n",
            "Epoch 5 Batch 50 Loss 1.1729\n",
            "Epoch 5 Batch 100 Loss 1.1389\n",
            "Epoch 5 Batch 150 Loss 1.2124\n",
            "\n",
            "Epoch 5 Loss: 1.1602\n",
            "Time taken for 1 epoch 722.93 sec\n",
            "________________________________________________________________________________\n",
            "Epoch 6 Batch 0 Loss 1.0991\n",
            "Epoch 6 Batch 50 Loss 1.0934\n",
            "Epoch 6 Batch 100 Loss 1.1227\n",
            "Epoch 6 Batch 150 Loss 1.1331\n",
            "\n",
            "Epoch 6 Loss: 1.1178\n",
            "Time taken for 1 epoch 721.94 sec\n",
            "________________________________________________________________________________\n",
            "Epoch 7 Batch 0 Loss 1.0150\n",
            "Epoch 7 Batch 50 Loss 1.0556\n",
            "Epoch 7 Batch 100 Loss 1.0859\n",
            "Epoch 7 Batch 150 Loss 1.0697\n",
            "\n",
            "Epoch 7 Loss: 1.0726\n",
            "Time taken for 1 epoch 723.52 sec\n",
            "________________________________________________________________________________\n",
            "Epoch 8 Batch 0 Loss 0.9725\n",
            "Epoch 8 Batch 50 Loss 0.9946\n",
            "Epoch 8 Batch 100 Loss 1.0338\n",
            "Epoch 8 Batch 150 Loss 1.0644\n",
            "\n",
            "Epoch 8 Loss: 1.0262\n",
            "Time taken for 1 epoch 722.76 sec\n",
            "________________________________________________________________________________\n",
            "Epoch 9 Batch 0 Loss 0.8997\n",
            "Epoch 9 Batch 50 Loss 0.9689\n",
            "Epoch 9 Batch 100 Loss 0.9662\n",
            "Epoch 9 Batch 150 Loss 0.9664\n",
            "\n",
            "Epoch 9 Loss: 0.9754\n",
            "Time taken for 1 epoch 726.33 sec\n",
            "________________________________________________________________________________\n",
            "Epoch 10 Batch 0 Loss 0.8491\n",
            "Epoch 10 Batch 50 Loss 0.9219\n",
            "Epoch 10 Batch 100 Loss 0.9454\n",
            "Epoch 10 Batch 150 Loss 0.9499\n",
            "\n",
            "Epoch 10 Loss: 0.9246\n",
            "Time taken for 1 epoch 725.18 sec\n",
            "________________________________________________________________________________\n"
          ]
        }
      ]
    },
    {
      "cell_type": "markdown",
      "metadata": {
        "id": "Rwoxb0w__o1l"
      },
      "source": [
        "Jalankan kode diatas dan sebutkan perbedaanya dengan praktikum 2?"
      ]
    },
    {
      "cell_type": "markdown",
      "source": [
        "Metode train_step Keras adalah pendekatan yang mudah dan otomatisasi dalam pelatihan model, sementara penggunaan tf.GradientTape memberi fleksibilitas lebih besar untuk kontrol kustomisasi, terutama dalam perhitungan gradien dan operasi pelatihan yang kompleks. Pilihan tergantung pada tingkat kontrol dan kompleksitas pelatihan yang Anda perlukan."
      ],
      "metadata": {
        "id": "PT3eaWpnp54E"
      }
    }
  ],
  "metadata": {
    "colab": {
      "toc_visible": true,
      "provenance": []
    },
    "kernelspec": {
      "display_name": "Python 3",
      "name": "python3"
    },
    "language_info": {
      "name": "python"
    }
  },
  "nbformat": 4,
  "nbformat_minor": 0
}