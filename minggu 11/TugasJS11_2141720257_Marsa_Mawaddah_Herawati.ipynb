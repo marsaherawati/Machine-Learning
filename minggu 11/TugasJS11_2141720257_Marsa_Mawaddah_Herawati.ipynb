{
  "nbformat": 4,
  "nbformat_minor": 0,
  "metadata": {
    "colab": {
      "provenance": [],
      "gpuType": "T4"
    },
    "kernelspec": {
      "name": "python3",
      "display_name": "Python 3"
    },
    "language_info": {
      "name": "python"
    },
    "accelerator": "GPU"
  },
  "cells": [
    {
      "cell_type": "markdown",
      "source": [
        "# Tugas Praktikum"
      ],
      "metadata": {
        "id": "7V6mc7i4KL8D"
      }
    },
    {
      "cell_type": "markdown",
      "source": [
        "### 1. Modifikasi model CNN pada praktikum 2 sehingga didapatkan akurasi testing lebih dari 80%."
      ],
      "metadata": {
        "id": "Dw9NwrV-PaSP"
      }
    },
    {
      "cell_type": "markdown",
      "source": [
        "#### Langkah 1 - Import Library"
      ],
      "metadata": {
        "id": "Ruo0dut6P1Pr"
      }
    },
    {
      "cell_type": "code",
      "source": [
        "import tensorflow as tf\n",
        "from tensorflow.keras import datasets, layers, models\n",
        "import matplotlib.pyplot as plt"
      ],
      "metadata": {
        "id": "7UNa8BeuP07n"
      },
      "execution_count": null,
      "outputs": []
    },
    {
      "cell_type": "markdown",
      "source": [
        "#### Langkah 2 - Load CIFAR-10 dataset"
      ],
      "metadata": {
        "id": "oz_TdjJYssaa"
      }
    },
    {
      "cell_type": "code",
      "execution_count": null,
      "metadata": {
        "colab": {
          "base_uri": "https://localhost:8080/"
        },
        "id": "U0m2ucIsKALZ",
        "outputId": "664fa0e7-7011-4d68-8a1b-12283b007918"
      },
      "outputs": [
        {
          "output_type": "stream",
          "name": "stdout",
          "text": [
            "Downloading data from https://www.cs.toronto.edu/~kriz/cifar-10-python.tar.gz\n",
            "170498071/170498071 [==============================] - 4s 0us/step\n"
          ]
        }
      ],
      "source": [
        "(train_images, train_labels), (test_images, test_labels) = datasets.cifar10.load_data()"
      ]
    },
    {
      "cell_type": "markdown",
      "source": [
        "#### Langkah 3 - Normalisasi nilai piksel menjadi antara 0 dan 1"
      ],
      "metadata": {
        "id": "e3hH8rZDs5KK"
      }
    },
    {
      "cell_type": "code",
      "source": [
        "train_images, test_images = train_images / 255.0, test_images / 255.0"
      ],
      "metadata": {
        "id": "sdSkosKBQJtv"
      },
      "execution_count": null,
      "outputs": []
    },
    {
      "cell_type": "markdown",
      "source": [
        "#### Langkah 4 - Buat model CNN"
      ],
      "metadata": {
        "id": "RGz7F0S3tGpq"
      }
    },
    {
      "cell_type": "code",
      "source": [
        "model = models.Sequential()\n",
        "model.add(layers.Conv2D(64,(4,4),input_shape=(32,32,3),activation='relu',padding='same'))\n",
        "model.add(layers.BatchNormalization())\n",
        "model.add(layers.Conv2D(64,(4,4),input_shape=(32,32,3),activation='relu',padding='same'))\n",
        "model.add(layers.BatchNormalization())\n",
        "model.add(layers.MaxPooling2D(pool_size=(2,2)))\n",
        "model.add(layers.Dropout(0.2))\n",
        "model.add(layers.Conv2D(128,(4,4),input_shape=(32,32,3),activation='relu',padding='same'))\n",
        "model.add(layers.BatchNormalization())\n",
        "model.add(layers.Conv2D(128,(4,4),input_shape=(32,32,3),activation='relu',padding='same'))\n",
        "model.add(layers.BatchNormalization())\n",
        "model.add(layers.MaxPooling2D(pool_size=(2,2)))\n",
        "model.add(layers.Dropout(0.25))\n",
        "model.add(layers.Conv2D(128,(4,4),input_shape=(32,32,3),activation='relu',padding='same'))\n",
        "model.add(layers.BatchNormalization())\n",
        "model.add(layers.Conv2D(128,(4,4),input_shape=(32,32,3),activation='relu',padding='same'))\n",
        "model.add(layers.BatchNormalization())\n",
        "model.add(layers.MaxPooling2D(pool_size=(2,2)))\n",
        "model.add(layers.Dropout(0.35))\n",
        "model.add(layers.Flatten())\n",
        "model.add(layers.Dense(256, activation='relu'))\n",
        "model.add(layers.BatchNormalization())\n",
        "model.add(layers.Dropout(0.5))\n",
        "model.add(layers.Dense(10, activation='softmax'))\n",
        "model.summary()"
      ],
      "metadata": {
        "colab": {
          "base_uri": "https://localhost:8080/"
        },
        "id": "mYs1TZH4QNWW",
        "outputId": "d6319819-95db-4f31-9c55-3f9050a9261c"
      },
      "execution_count": null,
      "outputs": [
        {
          "output_type": "stream",
          "name": "stdout",
          "text": [
            "Model: \"sequential\"\n",
            "_________________________________________________________________\n",
            " Layer (type)                Output Shape              Param #   \n",
            "=================================================================\n",
            " conv2d (Conv2D)             (None, 32, 32, 64)        3136      \n",
            "                                                                 \n",
            " batch_normalization (Batch  (None, 32, 32, 64)        256       \n",
            " Normalization)                                                  \n",
            "                                                                 \n",
            " conv2d_1 (Conv2D)           (None, 32, 32, 64)        65600     \n",
            "                                                                 \n",
            " batch_normalization_1 (Bat  (None, 32, 32, 64)        256       \n",
            " chNormalization)                                                \n",
            "                                                                 \n",
            " max_pooling2d (MaxPooling2  (None, 16, 16, 64)        0         \n",
            " D)                                                              \n",
            "                                                                 \n",
            " dropout (Dropout)           (None, 16, 16, 64)        0         \n",
            "                                                                 \n",
            " conv2d_2 (Conv2D)           (None, 16, 16, 128)       131200    \n",
            "                                                                 \n",
            " batch_normalization_2 (Bat  (None, 16, 16, 128)       512       \n",
            " chNormalization)                                                \n",
            "                                                                 \n",
            " conv2d_3 (Conv2D)           (None, 16, 16, 128)       262272    \n",
            "                                                                 \n",
            " batch_normalization_3 (Bat  (None, 16, 16, 128)       512       \n",
            " chNormalization)                                                \n",
            "                                                                 \n",
            " max_pooling2d_1 (MaxPoolin  (None, 8, 8, 128)         0         \n",
            " g2D)                                                            \n",
            "                                                                 \n",
            " dropout_1 (Dropout)         (None, 8, 8, 128)         0         \n",
            "                                                                 \n",
            " conv2d_4 (Conv2D)           (None, 8, 8, 128)         262272    \n",
            "                                                                 \n",
            " batch_normalization_4 (Bat  (None, 8, 8, 128)         512       \n",
            " chNormalization)                                                \n",
            "                                                                 \n",
            " conv2d_5 (Conv2D)           (None, 8, 8, 128)         262272    \n",
            "                                                                 \n",
            " batch_normalization_5 (Bat  (None, 8, 8, 128)         512       \n",
            " chNormalization)                                                \n",
            "                                                                 \n",
            " max_pooling2d_2 (MaxPoolin  (None, 4, 4, 128)         0         \n",
            " g2D)                                                            \n",
            "                                                                 \n",
            " dropout_2 (Dropout)         (None, 4, 4, 128)         0         \n",
            "                                                                 \n",
            " flatten (Flatten)           (None, 2048)              0         \n",
            "                                                                 \n",
            " dense (Dense)               (None, 256)               524544    \n",
            "                                                                 \n",
            " batch_normalization_6 (Bat  (None, 256)               1024      \n",
            " chNormalization)                                                \n",
            "                                                                 \n",
            " dropout_3 (Dropout)         (None, 256)               0         \n",
            "                                                                 \n",
            " dense_1 (Dense)             (None, 10)                2570      \n",
            "                                                                 \n",
            "=================================================================\n",
            "Total params: 1517450 (5.79 MB)\n",
            "Trainable params: 1515658 (5.78 MB)\n",
            "Non-trainable params: 1792 (7.00 KB)\n",
            "_________________________________________________________________\n"
          ]
        }
      ]
    },
    {
      "cell_type": "markdown",
      "source": [
        "#### Langkah 5 - Compile Model"
      ],
      "metadata": {
        "id": "XZpPFaAStMWI"
      }
    },
    {
      "cell_type": "code",
      "source": [
        "model.compile(optimizer='adam',\n",
        "              loss='sparse_categorical_crossentropy',\n",
        "              metrics=['accuracy'])"
      ],
      "metadata": {
        "id": "GJOAu1i2QSlB"
      },
      "execution_count": null,
      "outputs": []
    },
    {
      "cell_type": "markdown",
      "source": [
        "#### Langkah 6 - Latih model dengan lebih banyak epoch"
      ],
      "metadata": {
        "id": "3PVAjarttSxk"
      }
    },
    {
      "cell_type": "code",
      "source": [
        "history = model.fit(train_images, train_labels, epochs=20, validation_data=(test_images, test_labels))"
      ],
      "metadata": {
        "colab": {
          "base_uri": "https://localhost:8080/"
        },
        "id": "xvm7nfycQWc8",
        "outputId": "47bf5329-61b6-4693-be3a-b549ca17d16f"
      },
      "execution_count": null,
      "outputs": [
        {
          "output_type": "stream",
          "name": "stdout",
          "text": [
            "Epoch 1/20\n",
            "1563/1563 [==============================] - 51s 22ms/step - loss: 1.5644 - accuracy: 0.4639 - val_loss: 1.1467 - val_accuracy: 0.5917\n",
            "Epoch 2/20\n",
            "1563/1563 [==============================] - 35s 22ms/step - loss: 0.9455 - accuracy: 0.6710 - val_loss: 0.9367 - val_accuracy: 0.6806\n",
            "Epoch 3/20\n",
            "1563/1563 [==============================] - 34s 22ms/step - loss: 0.7696 - accuracy: 0.7344 - val_loss: 0.8794 - val_accuracy: 0.6942\n",
            "Epoch 4/20\n",
            "1563/1563 [==============================] - 34s 22ms/step - loss: 0.6558 - accuracy: 0.7770 - val_loss: 0.8545 - val_accuracy: 0.7117\n",
            "Epoch 5/20\n",
            "1563/1563 [==============================] - 35s 22ms/step - loss: 0.5605 - accuracy: 0.8080 - val_loss: 0.5964 - val_accuracy: 0.7972\n",
            "Epoch 6/20\n",
            "1563/1563 [==============================] - 34s 22ms/step - loss: 0.4897 - accuracy: 0.8342 - val_loss: 0.6664 - val_accuracy: 0.7796\n",
            "Epoch 7/20\n",
            "1563/1563 [==============================] - 34s 22ms/step - loss: 0.4255 - accuracy: 0.8563 - val_loss: 0.5191 - val_accuracy: 0.8308\n",
            "Epoch 8/20\n",
            "1563/1563 [==============================] - 35s 22ms/step - loss: 0.3803 - accuracy: 0.8698 - val_loss: 0.5725 - val_accuracy: 0.8112\n",
            "Epoch 9/20\n",
            "1563/1563 [==============================] - 34s 22ms/step - loss: 0.3367 - accuracy: 0.8852 - val_loss: 0.5278 - val_accuracy: 0.8322\n",
            "Epoch 10/20\n",
            "1563/1563 [==============================] - 34s 22ms/step - loss: 0.2985 - accuracy: 0.8976 - val_loss: 0.5059 - val_accuracy: 0.8397\n",
            "Epoch 11/20\n",
            "1563/1563 [==============================] - 34s 22ms/step - loss: 0.2727 - accuracy: 0.9060 - val_loss: 0.8778 - val_accuracy: 0.7324\n",
            "Epoch 12/20\n",
            "1563/1563 [==============================] - 34s 22ms/step - loss: 0.2480 - accuracy: 0.9131 - val_loss: 0.5572 - val_accuracy: 0.8300\n",
            "Epoch 13/20\n",
            "1563/1563 [==============================] - 34s 22ms/step - loss: 0.2239 - accuracy: 0.9241 - val_loss: 0.4916 - val_accuracy: 0.8507\n",
            "Epoch 14/20\n",
            "1563/1563 [==============================] - 35s 22ms/step - loss: 0.2106 - accuracy: 0.9279 - val_loss: 0.4973 - val_accuracy: 0.8523\n",
            "Epoch 15/20\n",
            "1563/1563 [==============================] - 34s 22ms/step - loss: 0.1958 - accuracy: 0.9324 - val_loss: 0.4926 - val_accuracy: 0.8573\n",
            "Epoch 16/20\n",
            "1563/1563 [==============================] - 34s 22ms/step - loss: 0.1807 - accuracy: 0.9384 - val_loss: 0.5047 - val_accuracy: 0.8556\n",
            "Epoch 17/20\n",
            "1563/1563 [==============================] - 34s 22ms/step - loss: 0.1672 - accuracy: 0.9419 - val_loss: 0.5178 - val_accuracy: 0.8611\n",
            "Epoch 18/20\n",
            "1563/1563 [==============================] - 33s 21ms/step - loss: 0.1595 - accuracy: 0.9457 - val_loss: 0.5153 - val_accuracy: 0.8597\n",
            "Epoch 19/20\n",
            "1563/1563 [==============================] - 34s 22ms/step - loss: 0.1512 - accuracy: 0.9482 - val_loss: 0.4923 - val_accuracy: 0.8647\n",
            "Epoch 20/20\n",
            "1563/1563 [==============================] - 33s 21ms/step - loss: 0.1428 - accuracy: 0.9514 - val_loss: 0.5527 - val_accuracy: 0.8516\n"
          ]
        }
      ]
    },
    {
      "cell_type": "markdown",
      "source": [
        "#### Langkah 7 - Evaluasi hasil model"
      ],
      "metadata": {
        "id": "YU1T-qgOtaYB"
      }
    },
    {
      "cell_type": "code",
      "source": [
        "test_loss, test_acc = model.evaluate(test_images, test_labels, verbose=2)\n",
        "print(f\"Test accuracy: {test_acc}\")"
      ],
      "metadata": {
        "colab": {
          "base_uri": "https://localhost:8080/"
        },
        "id": "DtX5HLPrTFcQ",
        "outputId": "10367247-e454-40aa-c677-04e82ab8b382"
      },
      "execution_count": null,
      "outputs": [
        {
          "output_type": "stream",
          "name": "stdout",
          "text": [
            "313/313 - 2s - loss: 0.5527 - accuracy: 0.8516 - 2s/epoch - 6ms/step\n",
            "Test accuracy: 0.8515999913215637\n"
          ]
        }
      ]
    },
    {
      "cell_type": "markdown",
      "source": [
        "#### Langkah 8 - Menampilkan Histogram"
      ],
      "metadata": {
        "id": "P_4J1_HEtgap"
      }
    },
    {
      "cell_type": "code",
      "source": [
        "plt.plot(history.history['accuracy'], label='accuracy')\n",
        "plt.plot(history.history['val_accuracy'], label='val_accuracy')\n",
        "plt.xlabel('Epoch')\n",
        "plt.ylabel('Accuracy')\n",
        "plt.ylim([0, 1])\n",
        "plt.legend(loc='lower right')\n",
        "plt.show()"
      ],
      "metadata": {
        "colab": {
          "base_uri": "https://localhost:8080/",
          "height": 455
        },
        "id": "0bOdq44QTH-6",
        "outputId": "b7a485e5-8007-4d3e-8fd6-9faa7abf96ff"
      },
      "execution_count": null,
      "outputs": [
        {
          "output_type": "display_data",
          "data": {
            "text/plain": [
              "<Figure size 640x480 with 1 Axes>"
            ],
            "image/png": "[encoded data removed]"
          },
          "metadata": {}
        }
      ]
    },
    {
      "cell_type": "markdown",
      "source": [
        "### 2. Buatlah model CNN untuk klasifikasi dataset MNIST"
      ],
      "metadata": {
        "id": "V8KpXxE1PgkB"
      }
    },
    {
      "cell_type": "markdown",
      "source": [
        "#### Langkah 1 - Import Library"
      ],
      "metadata": {
        "id": "7QI9_hjmtpFm"
      }
    },
    {
      "cell_type": "code",
      "source": [
        "import tensorflow as tf\n",
        "from tensorflow.keras import datasets, layers, models\n",
        "import matplotlib.pyplot as plt"
      ],
      "metadata": {
        "id": "ULRHm9yePrFc"
      },
      "execution_count": null,
      "outputs": []
    },
    {
      "cell_type": "markdown",
      "source": [
        "#### Langkah 2 - Load Mnist dataset"
      ],
      "metadata": {
        "id": "ZST4aufJttvE"
      }
    },
    {
      "cell_type": "code",
      "source": [
        "(train_images, train_labels), (test_images, test_labels) = datasets.mnist.load_data()"
      ],
      "metadata": {
        "colab": {
          "base_uri": "https://localhost:8080/"
        },
        "id": "z-0U4ncsTTnp",
        "outputId": "db4990bd-a103-493b-c3d8-433ddd61986f"
      },
      "execution_count": null,
      "outputs": [
        {
          "output_type": "stream",
          "name": "stdout",
          "text": [
            "Downloading data from https://storage.googleapis.com/tensorflow/tf-keras-datasets/mnist.npz\n",
            "11490434/11490434 [==============================] - 0s 0us/step\n"
          ]
        }
      ]
    },
    {
      "cell_type": "markdown",
      "source": [
        "#### Langkah 3 - Normalisasikan nilai piksel menjadi antara 0 dan 1"
      ],
      "metadata": {
        "id": "UDoVkHeLuV0J"
      }
    },
    {
      "cell_type": "code",
      "source": [
        "train_images, test_images = train_images / 255.0, test_images / 255.0"
      ],
      "metadata": {
        "id": "SOSYwCiXTWYx"
      },
      "execution_count": null,
      "outputs": []
    },
    {
      "cell_type": "markdown",
      "source": [
        "#### Langkah 4 - Buat model CNN\n"
      ],
      "metadata": {
        "id": "AMvdqCTbuanJ"
      }
    },
    {
      "cell_type": "code",
      "source": [
        "model = models.Sequential()\n",
        "model.add(layers.Conv2D(32, (3, 3), activation='relu', input_shape=(28, 28, 1)))\n",
        "model.add(layers.MaxPooling2D((2, 2)))\n",
        "model.add(layers.Conv2D(64, (3, 3), activation='relu'))\n",
        "model.add(layers.MaxPooling2D((2, 2)))\n",
        "model.add(layers.Conv2D(64, (3, 3), activation='relu'))\n",
        "model.add(layers.Flatten())\n",
        "model.add(layers.Dense(64, activation='relu'))\n",
        "model.add(layers.Dense(10, activation='softmax'))"
      ],
      "metadata": {
        "id": "iberZpPYUGJD"
      },
      "execution_count": null,
      "outputs": []
    },
    {
      "cell_type": "markdown",
      "source": [
        "#### Langkah 5 - Compile modelnya"
      ],
      "metadata": {
        "id": "KVH1xY2suhJ_"
      }
    },
    {
      "cell_type": "code",
      "source": [
        "model.compile(optimizer='adam',\n",
        "              loss='sparse_categorical_crossentropy',\n",
        "              metrics=['accuracy'])"
      ],
      "metadata": {
        "id": "PckPXoOwUIxK"
      },
      "execution_count": null,
      "outputs": []
    },
    {
      "cell_type": "markdown",
      "source": [
        "#### Langkah 6 - Latih model dengan lebih banyak epoch"
      ],
      "metadata": {
        "id": "0kEbrZ6GuoMT"
      }
    },
    {
      "cell_type": "code",
      "source": [
        "history = model.fit(train_images, train_labels, epochs=10, validation_data=(test_images, test_labels))"
      ],
      "metadata": {
        "colab": {
          "base_uri": "https://localhost:8080/"
        },
        "id": "g5UZrYMkWMSI",
        "outputId": "4587e590-0ca7-4f87-bde8-4edf7074cfa9"
      },
      "execution_count": null,
      "outputs": [
        {
          "output_type": "stream",
          "name": "stdout",
          "text": [
            "Epoch 1/10\n",
            "1875/1875 [==============================] - 12s 5ms/step - loss: 0.1424 - accuracy: 0.9555 - val_loss: 0.0858 - val_accuracy: 0.9730\n",
            "Epoch 2/10\n",
            "1875/1875 [==============================] - 9s 5ms/step - loss: 0.0452 - accuracy: 0.9858 - val_loss: 0.0279 - val_accuracy: 0.9906\n",
            "Epoch 3/10\n",
            "1875/1875 [==============================] - 10s 5ms/step - loss: 0.0323 - accuracy: 0.9905 - val_loss: 0.0291 - val_accuracy: 0.9918\n",
            "Epoch 4/10\n",
            "1875/1875 [==============================] - 10s 5ms/step - loss: 0.0245 - accuracy: 0.9921 - val_loss: 0.0374 - val_accuracy: 0.9882\n",
            "Epoch 5/10\n",
            "1875/1875 [==============================] - 9s 5ms/step - loss: 0.0203 - accuracy: 0.9934 - val_loss: 0.0312 - val_accuracy: 0.9909\n",
            "Epoch 6/10\n",
            "1875/1875 [==============================] - 9s 5ms/step - loss: 0.0153 - accuracy: 0.9952 - val_loss: 0.0386 - val_accuracy: 0.9891\n",
            "Epoch 7/10\n",
            "1875/1875 [==============================] - 10s 5ms/step - loss: 0.0130 - accuracy: 0.9959 - val_loss: 0.0335 - val_accuracy: 0.9914\n",
            "Epoch 8/10\n",
            "1875/1875 [==============================] - 9s 5ms/step - loss: 0.0119 - accuracy: 0.9959 - val_loss: 0.0572 - val_accuracy: 0.9856\n",
            "Epoch 9/10\n",
            "1875/1875 [==============================] - 10s 5ms/step - loss: 0.0102 - accuracy: 0.9966 - val_loss: 0.0327 - val_accuracy: 0.9918\n",
            "Epoch 10/10\n",
            "1875/1875 [==============================] - 10s 5ms/step - loss: 0.0091 - accuracy: 0.9971 - val_loss: 0.0378 - val_accuracy: 0.9913\n"
          ]
        }
      ]
    },
    {
      "cell_type": "markdown",
      "source": [
        "#### Langkah 7 - Evaluasi hasil model"
      ],
      "metadata": {
        "id": "ulZDnyDjuvLD"
      }
    },
    {
      "cell_type": "code",
      "source": [
        "test_loss, test_acc = model.evaluate(test_images,  test_labels, verbose=2)\n",
        "print(f\"Test accuracy: {test_acc}\")"
      ],
      "metadata": {
        "colab": {
          "base_uri": "https://localhost:8080/"
        },
        "id": "etTrjG3dWm0D",
        "outputId": "0544814e-0585-4ece-cabd-1bce7cc71df6"
      },
      "execution_count": null,
      "outputs": [
        {
          "output_type": "stream",
          "name": "stdout",
          "text": [
            "313/313 - 1s - loss: 0.0378 - accuracy: 0.9913 - 851ms/epoch - 3ms/step\n",
            "Test accuracy: 0.9912999868392944\n"
          ]
        }
      ]
    },
    {
      "cell_type": "markdown",
      "source": [
        "#### Langkah 8 - Menampilkan Histogram"
      ],
      "metadata": {
        "id": "-82DQhfwuzkb"
      }
    },
    {
      "cell_type": "code",
      "source": [
        "plt.plot(history.history['accuracy'], label='accuracy')\n",
        "plt.plot(history.history['val_accuracy'], label='val_accuracy')\n",
        "plt.xlabel('Epoch')\n",
        "plt.ylabel('Accuracy')\n",
        "plt.ylim([0, 1])\n",
        "plt.legend(loc='lower right')\n",
        "plt.show()"
      ],
      "metadata": {
        "colab": {
          "base_uri": "https://localhost:8080/",
          "height": 455
        },
        "id": "Ri6v-nZaWuq8",
        "outputId": "12590e8f-489a-4e77-aff2-e8db44f2a46c"
      },
      "execution_count": null,
      "outputs": [
        {
          "output_type": "display_data",
          "data": {
            "text/plain": [
              "<Figure size 640x480 with 1 Axes>"
            ],
            "image/png": "[encoded data removed]"
          },
          "metadata": {}
        }
      ]
    }
  ]
}